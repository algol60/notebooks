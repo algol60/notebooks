{
 "cells": [
  {
   "cell_type": "markdown",
   "id": "c5183e72-123d-4197-a08f-a8e35c82389f",
   "metadata": {},
   "source": [
    "# Pattern of life\n",
    "\n",
    "In this notebook we'll build a pattern-of-life visualistion. We take a collection of timestamps where some event happened (a bird was spotted, a shopper entered a store) and create a heatmap with the days of the week on one axis and hours of the day on the other axis, and the count of the things that happened at those days and hours as the visualisation.\n",
    "\n",
    "In this way it becomes easy to spot patterns: birds mostly appearing at sunrise and sunset, or shoppers shopping after work on weekdays, but in the mornings on weekends.\n",
    "\n",
    "We'll also play with pandas dataframes along the way.\n",
    "\n",
    "If all you want is the visualisation without the journey, skip to the end and use the `pattern_of_life()` function. (And you'll need these imports.)"
   ]
  },
  {
   "cell_type": "code",
   "execution_count": null,
   "id": "5b3e556c-c20c-4eea-a43c-7938e3c65824",
   "metadata": {},
   "outputs": [],
   "source": [
    "import pandas as pd\n",
    "import holoviews as hv\n",
    "\n",
    "hv.extension('bokeh')"
   ]
  },
  {
   "cell_type": "markdown",
   "id": "01c0ced9-9f8e-4b4e-abf1-cadf21f794d5",
   "metadata": {},
   "source": [
    "## How to do it\n",
    "\n",
    "We start with a set of event timestamps.\n",
    "- From each timestamp, extract the day of week and hour of day. (This is easy with a pandas dataframe.)\n",
    "- Group by the (day, hour) combination and count the size of each group. (Also easy with a pandas dataframe.)\n",
    "- Using the days and hours as axes, and the group sizes as values, draw the heatmap.\n",
    "\n",
    "Let's whip up a quick example. We'll create the processed data and plot it to see what it looks like.\n",
    "\n",
    "## Manipulate the data\n",
    "\n",
    "We start with a set of events timestamps, but to draw the heatmap, we need a dataframe with columns \"day of the week\", \"hour of the day\", and \"events per day/hour\". How do we get there from here? Pandas dataframes to the rescue.\n",
    "\n",
    "Timestamp columns have a `dt` property that provides a whole lot of date/time methods. Let's create a dataframe with a datetime column and investigate."
   ]
  },
  {
   "cell_type": "code",
   "execution_count": null,
   "id": "d4ea8207-41f2-4168-9736-06238eaeb38f",
   "metadata": {},
   "outputs": [],
   "source": [
    "# Create 5 timestamps with a frequency of 23 hours.\n",
    "#\n",
    "df = pd.DataFrame({'dtg': pd.date_range('2021-09-06', periods=5, freq='23H')})\n",
    "df"
   ]
  },
  {
   "cell_type": "code",
   "execution_count": null,
   "id": "1accdc9e-c1cc-4b95-a3f4-ae6634fefa48",
   "metadata": {},
   "outputs": [],
   "source": [
    "# What can we do with a timestamp?\n",
    "#\n",
    "print([name for name in dir(df['dtg'].dt) if not name.startswith('_')])"
   ]
  },
  {
   "cell_type": "markdown",
   "id": "54b2820b-b812-4ad8-8d49-20f173cbd780",
   "metadata": {},
   "source": [
    "That's a lot of methods.\n",
    "\n",
    "The ones that we're interested in are `day_name()` and `hour()`.\n",
    "\n",
    "The `day_name()` method returns the day of the week of a timestamp."
   ]
  },
  {
   "cell_type": "code",
   "execution_count": null,
   "id": "b4168177-4064-4513-8c83-bf04b74864a8",
   "metadata": {},
   "outputs": [],
   "source": [
    "df['Day'] = df['dtg'].dt.day_name()\n",
    "df"
   ]
  },
  {
   "cell_type": "markdown",
   "id": "c62ba765-6c07-4efe-a89b-fa8950dfcbd8",
   "metadata": {},
   "source": [
    "We really only want the day abbreviations, ie the first three letters. There must be a string method for that."
   ]
  },
  {
   "cell_type": "code",
   "execution_count": null,
   "id": "f0d13bf2-e58e-4a33-b7cb-6ae3bd562fee",
   "metadata": {},
   "outputs": [],
   "source": [
    "# What can we do with a string?\n",
    "#\n",
    "print([name for name in dir(df['Day'].str) if not name.startswith('_')])"
   ]
  },
  {
   "cell_type": "markdown",
   "id": "b61d10f1-d5fb-4ccb-bc40-bc02b715d800",
   "metadata": {},
   "source": [
    "That's also a lot of methods.\n",
    "\n",
    "In plain Python, if we wanted the first three characters of a string, we'd use a slice."
   ]
  },
  {
   "cell_type": "code",
   "execution_count": null,
   "id": "ae288acc-39bd-42ce-a409-f6affe71e0b4",
   "metadata": {},
   "outputs": [],
   "source": [
    "s = 'Hello world.'\n",
    "print(s[:3])"
   ]
  },
  {
   "cell_type": "markdown",
   "id": "a367a12c-608e-4837-83dd-bbbe9c75d34e",
   "metadata": {},
   "source": [
    "We can't use that on a dataframe (because pandas takes over the `[]` and does something else), but there is a string method called `slice` that does the same thing. We can combine that with the `day_name()` method."
   ]
  },
  {
   "cell_type": "code",
   "execution_count": null,
   "id": "45450b01-9683-4bc1-8b3c-a65fa4fd8bda",
   "metadata": {},
   "outputs": [],
   "source": [
    "df['Day'] = df['dtg'].dt.day_name().str.slice(0, 3)\n",
    "df"
   ]
  },
  {
   "cell_type": "markdown",
   "id": "79c5c345-42fc-420d-87fb-8f65ab14e651",
   "metadata": {},
   "source": [
    "All we need now is the hour."
   ]
  },
  {
   "cell_type": "code",
   "execution_count": null,
   "id": "a2260e0a-3130-4eff-8ed5-7640104c75da",
   "metadata": {},
   "outputs": [],
   "source": [
    "df['Hour'] = df['dtg'].dt.hour\n",
    "df"
   ]
  },
  {
   "cell_type": "markdown",
   "id": "a1e46b5b-13fb-43f6-90e4-63366e424e10",
   "metadata": {},
   "source": [
    "Now we just need to count how many times each combination of `Name` and `Hour` appears. This is done by grouping on those columes and getting the size, ie counting how many of each combination there are. (We don't need the `dtg` column any more.)"
   ]
  },
  {
   "cell_type": "code",
   "execution_count": null,
   "id": "9f9b6d1a-e8e0-4d74-bd14-09e1c2ed77e8",
   "metadata": {},
   "outputs": [],
   "source": [
    "group_df = df.groupby(['Day', 'Hour'], as_index=False).size()\n",
    "group_df"
   ]
  },
  {
   "cell_type": "markdown",
   "id": "1c8b2b1a-422a-4c04-a029-117153350f01",
   "metadata": {},
   "source": [
    "Which is just what we need for making a heatmap. (The `size` column comes from the `size()` method; it's as good a name as any.\n",
    "\n",
    "## Holoviews HeatMap\n",
    "\n",
    "Let's investigate the Holoviews HeatMap element. We'll start by creating an example input and plotting it."
   ]
  },
  {
   "cell_type": "code",
   "execution_count": null,
   "id": "af4c393d-ea92-40fc-95c7-4e28e38e4d7d",
   "metadata": {},
   "outputs": [],
   "source": [
    "df = pd.DataFrame({\n",
    "    'Day': ['Tue', 'Thu', 'Thu'],\n",
    "    'Hour': [9, 12, 17],\n",
    "    'size': [1, 2, 3]\n",
    "})\n",
    "df"
   ]
  },
  {
   "cell_type": "code",
   "execution_count": null,
   "id": "d3e19d45-1b9b-403d-ac4d-97e6b36fa552",
   "metadata": {},
   "outputs": [],
   "source": [
    "hv.HeatMap(df, kdims=['Day', 'Hour'], vdims='size')"
   ]
  },
  {
   "cell_type": "markdown",
   "id": "80b95363-0f9e-4cd3-b89a-cd17ef912c97",
   "metadata": {},
   "source": [
    "Blergh. There's a lot missing there. We expect to see all of the days and hours, but `hv.HeatMap()` can only draw what we give it. This means we have to add everything else ourselves. In this case, not only do we have to fill out the missing days with 24 zero values each, but also the missing hours in the days that we have.\n",
    "\n",
    "We need to build a dataframe containing `Day` and `Hour` columns containing each combination of day and hour. To do that, we'll use in inside-out trick.\n",
    "\n",
    "The `pd.DataFrame.from_records()` function takes a sequence of tuples and a list of column names. We could build a list of tuples...\n",
    "```\n",
    "[('Mon', 0), ('Mon', 1), ('Mon', 2), ..., ('Mon', 23), ('Tue', 0), ..., ('Sun', 23)]\n",
    "```\n",
    "\n",
    "...and then build a dataframe from that list. Then we have a list sitting around doing nothing. Instead, we create a _generator function_ (a function that contains a `yield` statement) that generates rows one at a time, and give that to `pd.DataFrame.from_records()`. Doing it this way is handy if you're retrieving lots of rows from a database query, or reading some data that you have to change on the fly, and you don't want to keep track of another list.\n",
    "\n",
    "We only need to create the day and hour columns, because we can easily add a column of all zero values to a dataframe."
   ]
  },
  {
   "cell_type": "code",
   "execution_count": null,
   "id": "48af684f-25fb-4df1-aeca-310f589a623a",
   "metadata": {},
   "outputs": [],
   "source": [
    "DAYS = ['Mon', 'Tue', 'Wed', 'Thu', 'Fri', 'Sat', 'Sun']\n",
    "\n",
    "def generate_pol_zero():\n",
    "    \"\"\"Generate pattern-of-life data with all zero values.\"\"\"\n",
    "    \n",
    "    for day in DAYS:\n",
    "        for hour in range(24):\n",
    "            yield day, hour\n",
    "            \n",
    "zero_df = pd.DataFrame.from_records(generate_pol_zero(), columns=['Day', 'Hour'])\n",
    "zero_df['size'] = 0\n",
    "zero_df"
   ]
  },
  {
   "cell_type": "markdown",
   "id": "b6d4dd50-c678-40e8-bcf5-5ca86522bf12",
   "metadata": {},
   "source": [
    "In this case, though, we know exactly what the input list looks like, so could do it like this."
   ]
  },
  {
   "cell_type": "code",
   "execution_count": null,
   "id": "6fd366cb-fe21-4769-961f-abadeb4cdbf2",
   "metadata": {},
   "outputs": [],
   "source": [
    "zero_df = pd.DataFrame.from_records(\n",
    "    [(day, hour) for day in DAYS for hour in range(24)],\n",
    "    columns=['Day', 'Hour']\n",
    ")\n",
    "zero_df['size'] = 0\n",
    "zero_df"
   ]
  },
  {
   "cell_type": "markdown",
   "id": "540e68b1-cad3-43e2-90eb-31bcf7f34053",
   "metadata": {},
   "source": [
    "Either way, we get the same dataframe, and the number of rows is $24 \\times 7 = 168$ as expected.\n",
    "\n",
    "Now we have a dataframe containing zero sightings of birds, shoppers, or anything. Let's try creating a heatmap to see if we have the right format."
   ]
  },
  {
   "cell_type": "code",
   "execution_count": null,
   "id": "fbc2da6c-207f-41d8-bb4b-458e6885f15f",
   "metadata": {},
   "outputs": [],
   "source": [
    "hv.HeatMap(zero_df, kdims=['Hour', 'Day'], vdims='size')"
   ]
  },
  {
   "cell_type": "markdown",
   "id": "d5f7989b-14a2-47c6-9703-3182530cc3dc",
   "metadata": {},
   "source": [
    "Ignoring the horrible style, it has all of the days, all of the hours, and a uniform color (because the sizes are all zero). Excellent.\n",
    "\n",
    "How do we combine that with the `df` dataframe that does contain counts?\n",
    "- Concatenate the dataframes using `pd.concat()`, putting the real data first.\n",
    "- Remove the rows that have duplicate (day, hour) values.\n",
    "\n",
    "There should be 168 rows left."
   ]
  },
  {
   "cell_type": "code",
   "execution_count": null,
   "id": "ef0cf34d-ac45-414f-b00a-ba3bd83c9cb3",
   "metadata": {},
   "outputs": [],
   "source": [
    "# Concatenate the two dataframes.\n",
    "#\n",
    "full_df = pd.concat([df, zero_df])\n",
    "\n",
    "# Drop duplicate (day, hour) rows, keeping the first row.\n",
    "#\n",
    "full_df = full_df.drop_duplicates(subset=['Day', 'Hour'], keep='first', ignore_index=True)\n",
    "\n",
    "full_df"
   ]
  },
  {
   "cell_type": "markdown",
   "id": "c874e924-ca2c-4be3-92cd-c653f5c861ea",
   "metadata": {},
   "source": [
    "That looks like what we want. Let's see what the heatmap looks like now (with the original dataframe for comparison)."
   ]
  },
  {
   "cell_type": "code",
   "execution_count": null,
   "id": "2a421c3f-6ee9-4ce8-ba8c-98e45aec78a8",
   "metadata": {},
   "outputs": [],
   "source": [
    "print(df)\n",
    "hv.HeatMap(full_df, kdims=['Hour', 'Day'], vdims='size')"
   ]
  },
  {
   "cell_type": "markdown",
   "id": "09f339dc-ab1c-44dc-8525-64419900fa92",
   "metadata": {},
   "source": [
    "Ignoring the terrible style, the terrible colors, and the fact that the days are out of order, that seems fine: the counts in the dataframe match the colors in the heatmap (assuming darker means a higher count).\n",
    "\n",
    "Now we can go ahead and start fixing the presentation.\n",
    "\n",
    "## Label order\n",
    "\n",
    "Let's fix the days first. Why are they out of order? By default, Holoviews will order the axes in whatever order your data is in. If you look back at `full_df`, you'll notice that the first few rows are whatever was in the original `df`, followed by the rest of the zero value rows. Since the rows start with `'Tue', 'Thu'`, that's what Holoviews uses; exactly what we asked for, even if we didn't realise it. 🙁\n",
    "\n",
    "We can't fix it by using `full_df.sort_value()` to sort the rows, because then we'd get the days of the week in alphabetical order, and that's not right.\n",
    "\n",
    "There are a couple of ways of fixing this.\n",
    "\n",
    "Remember that Holoviews elements needs key dimensions (`kdims`) and value dimensions (`vdims`). For `hv.HeatMap` the kdims are `Hour` and `Day`, and the vdim is `size` (because the size value depends on both of Hour and Day). We can tell Holoviewws that the `Day` dimension not only has particular values, but the order that those values are in.\n",
    "\n",
    "When we use `kdims='name'`, we're actually using a shortcut for `kdims=hv.Dimension('name')`. We can use the `values` parameter in `hv.Dimensions()` to specify the order of the day names. When Holoviews draws the heatmap, it will ensure that the `day_dim` dimension appears in the right order. (We'll assign the `HeatMap` element to `pol_heatmap` so we can keep using it.)"
   ]
  },
  {
   "cell_type": "code",
   "execution_count": null,
   "id": "dd74ceaf-ae4f-4635-975b-1c5c2e2038eb",
   "metadata": {},
   "outputs": [],
   "source": [
    "day_dim = hv.Dimension('Day', values=DAYS)\n",
    "pol_heatmap = hv.HeatMap(full_df, kdims=['Hour', day_dim], vdims='size')\n",
    "pol_heatmap"
   ]
  },
  {
   "cell_type": "markdown",
   "id": "b7b951fb-3043-45d7-94e6-b03fb402af76",
   "metadata": {},
   "source": [
    "That worked nicely (ignoring the \"going up\" order for now).\n",
    "\n",
    "Another way of fixing the order is to do it in the dataframe. Day names are _categorical_: they have a fixed number of values. By converting the day names from string type to categorical type, your dataframe becomes a little more efficient (probably not a problem for this small dataframe), and the sorting order can be maintained."
   ]
  },
  {
   "cell_type": "code",
   "execution_count": null,
   "id": "729353f4-00aa-4272-b4cc-1dc453a73a76",
   "metadata": {},
   "outputs": [],
   "source": [
    "tmp_df = full_df\n",
    "tmp_df['Day_cat'] = pd.Categorical(tmp_df['Day'], DAYS, ordered=True)\n",
    "tmp_df = tmp_df.sort_values(['Day_cat', 'Hour'])\n",
    "tmp_df"
   ]
  },
  {
   "cell_type": "markdown",
   "id": "7bba2bb5-fe8e-41c5-b730-6bc29ce24a5e",
   "metadata": {},
   "source": [
    "Now that the dataframe is sorted in `Day_cat` categorical order, we can let Holoviews draw the axes in the order that they appear. This heatmap will be the same as the one above."
   ]
  },
  {
   "cell_type": "code",
   "execution_count": null,
   "id": "ff8007d0-2136-4dd0-8da9-22fb96749952",
   "metadata": {},
   "outputs": [],
   "source": [
    "hv.HeatMap(tmp_df, kdims=['Hour', 'Day_cat'], vdims='size')"
   ]
  },
  {
   "cell_type": "markdown",
   "id": "a18a9719-65af-4339-90cf-f45095b38378",
   "metadata": {},
   "source": [
    "Although categorical data can be useful, in this case we'll let Holoviews do the work; we'll use the `hv.Dimension()` code.\n",
    "\n",
    "## Style\n",
    "\n",
    "Now we'll go through the various style and plotting options one by one, starting with the size. Remember that using `.opts()` modifies the element, so we don't have to keep repeating previous options. We'll clear any existing options to start."
   ]
  },
  {
   "cell_type": "code",
   "execution_count": null,
   "id": "0f360a1b-46c8-42b0-a93e-bf028828d28a",
   "metadata": {},
   "outputs": [],
   "source": [
    "pol_heatmap.opts.clear()"
   ]
  },
  {
   "cell_type": "markdown",
   "id": "775cfd35-2a2b-4ae6-8c3f-10a20a4d88c7",
   "metadata": {},
   "source": [
    "### Size\n",
    "\n",
    "Normally, we'd use `.opts(height=something, width=something)` to set the height and width. However, for this plot, we have a special requirement: we want the individual subelements of the heatmap to be squares, because it looks nicer that way.\n",
    "\n",
    "The `height` and `width` parameters specify the width and height of the entire plot, including the axis labels, toolbar, and the other stuff that surrounds the actual plot. To specify the size of just the data part of the plot, we use `frame_width` and `frame_height`.\n",
    "\n",
    "There are 24 values along the x-axis and 7 values up the y-axis. Therefore, to make sure the subelements are squares, we want the height to be 7//24 times the width"
   ]
  },
  {
   "cell_type": "code",
   "execution_count": null,
   "id": "eefa1b56-e711-49aa-a88a-3380f0a1ca85",
   "metadata": {},
   "outputs": [],
   "source": [
    "pol_heatmap.opts(\n",
    "    frame_width=600,\n",
    "    frame_height=600*7//24\n",
    ")"
   ]
  },
  {
   "cell_type": "markdown",
   "id": "229d734b-e98a-41dd-9b2a-51931c075529",
   "metadata": {},
   "source": [
    "### Axes\n",
    "\n",
    "The x-axis does not number every major tick. There's plenty of room for 24 numbers, so we'll make this happen by settting `xticks` to a list of numbers. This has the beneficial side effect of removing the minor ticks.\n",
    "\n",
    "The yaxis is upside down. Holoviews starts both axes from the bottom-left, so this is to be expected, but we'd like Monday to be at the top, because we read from the top down. Use the `invert_yaxis` parameter."
   ]
  },
  {
   "cell_type": "code",
   "execution_count": null,
   "id": "c66ecd97-4cdc-470a-9642-177da1d2f6fb",
   "metadata": {},
   "outputs": [],
   "source": [
    "pol_heatmap.opts(\n",
    "    xticks=list(range(24)),\n",
    "    invert_yaxis=True\n",
    ")"
   ]
  },
  {
   "cell_type": "markdown",
   "id": "25279be0-8659-4224-b76e-aea93b5e4d6b",
   "metadata": {},
   "source": [
    "## Colors\n",
    "\n",
    "The default colors are ... blech.\n",
    "\n",
    "There are quite a few colormaps available to us. Colors are a subject in themselves: is the data categorical or continuous, can a colorblind user see the colors, are the colors uniform, etc, etc.\n",
    "\n",
    "For a pattern-of-life heatmap, the counts form a sequence, so we'll go with a perceptually uniform sequential colormap, such as one of those below."
   ]
  },
  {
   "cell_type": "code",
   "execution_count": null,
   "id": "b5c53985-1f91-4c4e-a61b-662325b186ff",
   "metadata": {},
   "outputs": [],
   "source": [
    "def cmap_examples(category, cols=4):\n",
    "    import numpy as np\n",
    "    from math import ceil\n",
    "    cms = hv.plotting.util.list_cmaps(records=True, category=category, reverse=False)\n",
    "    bars = [hv.Image(np.linspace(0, 1, 64)[np.newaxis], ydensity=1, label=f'{r.name}')\n",
    "               .opts(\n",
    "                   cmap=hv.plotting.util.process_cmap(r.name, provider=r.provider),\n",
    "                   frame_width=172, aspect=6,\n",
    "                   xaxis=None, yaxis=None,\n",
    "                   fontsize={'title':10}\n",
    "               )\n",
    "           for r in cms\n",
    "           if r.provider in ['bokeh', 'colorcet']]\n",
    "    n = len(bars) * 1.0\n",
    "    c = ceil(n/cols) if n>cols else cols\n",
    "    return hv.Layout(bars).opts(transpose=(n>cols)).cols(c).opts(title=category)\n",
    "\n",
    "cmap_examples('Uniform Sequential')"
   ]
  },
  {
   "cell_type": "markdown",
   "id": "6a54e93e-741b-44ae-81b8-e0f9dc7fd347",
   "metadata": {},
   "source": [
    "If you think they're a bit garish, you can try a mono sequential colormap, but they aren't perceptually uniform: in more complex plots, they be misleading, and colorblind people won't necessarily see the right shading"
   ]
  },
  {
   "cell_type": "code",
   "execution_count": null,
   "id": "95da8d3a-838c-4dd8-872b-9f82e836b4f1",
   "metadata": {},
   "outputs": [],
   "source": [
    "cmap_examples('Mono Sequential')"
   ]
  },
  {
   "cell_type": "markdown",
   "id": "026a4876-95c5-4c8b-b5b3-b82140e431ae",
   "metadata": {},
   "source": [
    "I'm going to go with Inferno here, but you can try other colormaps to see if you prefer another one.\n",
    "\n",
    "The subelement squares don't quite meet, so the background shows through. You can choose a color that matches the base color of the colormap (black for Inferno) if you want a smooth background, or a contrasting color if you'd like to see a grid."
   ]
  },
  {
   "cell_type": "code",
   "execution_count": null,
   "id": "cc6cef2c-7106-4ebf-8a3f-f0fd7fcdb12b",
   "metadata": {},
   "outputs": [],
   "source": [
    "pol_heatmap.opts(\n",
    "    cmap='Inferno',\n",
    "    bgcolor='grey'\n",
    ")"
   ]
  },
  {
   "cell_type": "markdown",
   "id": "f1889f83-b9b1-4816-a11f-cc6f6ce5b70e",
   "metadata": {},
   "source": [
    "We have no idea what values the colors correspond to. This isn't a complete disaster, because the colors show relative values, but it would still be good to know at least the approximate values. We could add a hover tool, but we probably don't need to know the exact values, so a colorbar should do."
   ]
  },
  {
   "cell_type": "code",
   "execution_count": null,
   "id": "8772beab-e6e0-46c7-8a6b-7f387ffb9de8",
   "metadata": {},
   "outputs": [],
   "source": [
    "pol_heatmap.opts(\n",
    "    colorbar=True\n",
    ")"
   ]
  },
  {
   "cell_type": "markdown",
   "id": "969307f2-55f3-4753-8197-93ecd9639af7",
   "metadata": {},
   "source": [
    "Finally we'll tidy up the surrounds.\n",
    "- Remove most of the tools. There's no reason to pan or zoom (and therefore reset); the only tool needed is save.\n",
    "- Change the axis labels. We could have done this using `hv.Dimension()` above, but it's easier to do it here.\n",
    "- Add a title."
   ]
  },
  {
   "cell_type": "code",
   "execution_count": null,
   "id": "22c7e692-2f4f-411f-ad4a-1b9a61ea7345",
   "metadata": {},
   "outputs": [],
   "source": [
    "pol_heatmap.opts(\n",
    "    default_tools=['save'],\n",
    "    xlabel='Hour of day',\n",
    "    ylabel='Day of week',\n",
    "    title='Pattern of life'\n",
    ")"
   ]
  },
  {
   "cell_type": "markdown",
   "id": "d8e27881-0e94-4f25-ae1a-4bf6e97ddab9",
   "metadata": {},
   "source": [
    "And there it is, the finished product.\n",
    "\n",
    "All we need to do now is wrap all of that up in a function, and add an example.\n",
    "\n",
    "The only mandatory parameters are a dataframe, and the name of the column in the dataframe that holds the timestamps. A default width is used."
   ]
  },
  {
   "cell_type": "code",
   "execution_count": null,
   "id": "f11320c0-42dd-45f1-a298-a71f94d5ae59",
   "metadata": {},
   "outputs": [],
   "source": [
    "def pattern_of_life(data_df, dtg_col, width=600):\n",
    "    \"\"\"Create and style a Holoviews HeatMap element.\n",
    "    \n",
    "    Parameters\n",
    "    ----------\n",
    "    data_df: DataFrame\n",
    "        A dataframe containing a timstamp column.\n",
    "    dtg_col: str\n",
    "        The name of the timestamp column.\n",
    "    width: int\n",
    "        The frame_width of the plot.\n",
    "        The height will be automatically calculated to make the grid square.\n",
    "    \n",
    "    Returns\n",
    "    -------\n",
    "    A `hv.HeatMap` element.\n",
    "    \"\"\"\n",
    "\n",
    "    DAYS = ['Mon', 'Tue', 'Wed', 'Thu', 'Fri', 'Sat', 'Sun']\n",
    "    \n",
    "    df = pd.DataFrame({'dtg':data_df[dtg_col]})\n",
    "    df['Day'] = df['dtg'].dt.day_name().str.slice(0, 3)\n",
    "    df['Hour'] = df['dtg'].dt.hour\n",
    "    df = df.drop(columns='dtg')\n",
    "\n",
    "    df = df.groupby(['Day', 'Hour'], as_index=False).size()\n",
    "    \n",
    "    zero_df = pd.DataFrame.from_records(\n",
    "        [(day, hour) for day in DAYS for hour in range(24)],\n",
    "        columns=['Day', 'Hour']\n",
    "    )\n",
    "    zero_df['size'] = 0\n",
    "    \n",
    "    # Concatenate the two dataframes.\n",
    "    #\n",
    "    df = pd.concat([df, zero_df])\n",
    "\n",
    "    # Drop duplicate (day, hour) rows, keeping the first row.\n",
    "    #\n",
    "    df = df.drop_duplicates(subset=['Day', 'Hour'], keep='first', ignore_index=True)\n",
    "    \n",
    "    day_dim = hv.Dimension('Day', values=DAYS)\n",
    "    return hv.HeatMap(df, kdims=['Hour', day_dim], vdims='size').opts(\n",
    "        frame_width=width,\n",
    "        frame_height=width*7//24, #Ensure that the internal grid is square.\n",
    "        cmap='Inferno',\n",
    "        invert_yaxis=True, # Days read from top to bottom.\n",
    "        xticks=list(range(24)), # Force all of the hours to be displayed.\n",
    "        xlabel='Hour of day',\n",
    "        ylabel='Day of week',\n",
    "        title='Pattern of life',\n",
    "        default_tools=['save'],\n",
    "        bgcolor='white',\n",
    "        colorbar=True\n",
    "    )"
   ]
  },
  {
   "cell_type": "code",
   "execution_count": null,
   "id": "46034d71-682f-4449-92ce-bd113ff6bbbb",
   "metadata": {},
   "outputs": [],
   "source": [
    "# Try it out with some simple data.\n",
    "# Add the DayName column so we can see if the days match the plot.\n",
    "#\n",
    "df = pd.DataFrame({'dtg': pd.date_range('2021-09-08 08:00', freq='25H', periods=4)})\n",
    "df['DayName'] = df['dtg'].dt.day_name()\n",
    "print(df)\n",
    "pattern_of_life(df, 'dtg')"
   ]
  },
  {
   "cell_type": "markdown",
   "id": "aebb83ba-aab6-4e76-8bf6-3d0130cd6c45",
   "metadata": {},
   "source": [
    "The `pattern_of_life()` function just returns the `hv.HeatMap` element, so we can still apply options to it."
   ]
  },
  {
   "cell_type": "code",
   "execution_count": null,
   "id": "2fe19554-577b-4fb0-a6e0-5f1ce5f2b1a7",
   "metadata": {},
   "outputs": [],
   "source": [
    "hm = pattern_of_life(df, 'dtg', width=504)\n",
    "hm.opts(cmap='Blues', title='What I did last week', xlabel='The Hours', ylabel='The Days', bgcolor='blue')"
   ]
  },
  {
   "cell_type": "markdown",
   "id": "d0f17846-7e84-41f8-b9f6-7d0e92afac71",
   "metadata": {},
   "source": [
    "Let's try it out with some more specially crafted data to see if the visualisation meets our expectations. (You can keep running the cell using Ctrl+Enter to see different values.)"
   ]
  },
  {
   "cell_type": "code",
   "execution_count": null,
   "id": "581c1ef1-b48c-4067-9c1c-38b6506a1fb9",
   "metadata": {},
   "outputs": [],
   "source": [
    "import numpy as np\n",
    "timestamps = []\n",
    "daily = lambda w,n:np.random.randn(n) * w # normal distribution of n events over w minutes\n",
    "events = lambda d,w=240,n=100:[pd.Timestamp(d) + minute*pd.Timedelta('1minute') for minute in daily(w, n)]\n",
    "timestamps.extend(events('2021-09-06 10:00'))\n",
    "timestamps.extend(events('2021-09-07 11:00'))\n",
    "timestamps.extend(events('2021-09-08 12:00'))\n",
    "timestamps.extend(events('2021-09-09 13:00'))\n",
    "timestamps.extend(events('2021-09-10 14:00'))\n",
    "timestamps.extend(events('2021-09-11 21:00', 120, 50)) # half as many events in half as many minutes\n",
    "df = pd.DataFrame({'dtg': timestamps})\n",
    "\n",
    "pattern_of_life(df, 'dtg')"
   ]
  },
  {
   "cell_type": "markdown",
   "id": "2a1192be-394a-4bfd-a4df-04a0dd0270ba",
   "metadata": {},
   "source": [
    "It looks like there's a standard workday on business days, starting and finishing a little later every day, with more events in the middle of the day. On Saturdays it's party on in the evenings, and Sundays are event free (apart from possible spillover from Saturdays)."
   ]
  },
  {
   "cell_type": "code",
   "execution_count": null,
   "id": "49f95ac5-2b95-4a13-a780-8c80560b9c87",
   "metadata": {},
   "outputs": [],
   "source": []
  }
 ],
 "metadata": {
  "kernelspec": {
   "display_name": "Python 3 (ipykernel)",
   "language": "python",
   "name": "python3"
  },
  "language_info": {
   "codemirror_mode": {
    "name": "ipython",
    "version": 3
   },
   "file_extension": ".py",
   "mimetype": "text/x-python",
   "name": "python",
   "nbconvert_exporter": "python",
   "pygments_lexer": "ipython3",
   "version": "3.9.12"
  }
 },
 "nbformat": 4,
 "nbformat_minor": 5
}
