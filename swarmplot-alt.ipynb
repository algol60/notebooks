{
 "cells": [
  {
   "cell_type": "markdown",
   "id": "fb18b0da-2de9-4abc-84b9-a0c362c0b064",
   "metadata": {},
   "source": [
    "# Swarmplot alternative\n",
    "\n",
    "This notebook demonstrates the use of animation in a plot. We'll compare a seaborn swarmplot wqith an animated Holoviews scatter plot."
   ]
  },
  {
   "cell_type": "code",
   "execution_count": null,
   "id": "6a36d392-a0bd-425d-9d4c-688d229933a4",
   "metadata": {},
   "outputs": [],
   "source": [
    "import numpy as np\n",
    "import matplotlib.pyplot as plt\n",
    "import seaborn as sns\n",
    "import pandas as pd\n",
    "import random\n",
    "\n",
    "import holoviews as hv\n",
    "\n",
    "hv.extension('bokeh')"
   ]
  },
  {
   "cell_type": "markdown",
   "id": "7add777e-2eb4-438f-ae5d-b48241cd9e4c",
   "metadata": {},
   "source": [
    "In these unusual times, people are encouraged to check in with the \"Check In CBR\" app to assist contact tracing. We'd like to visualise those checkins to see where people from different areas of Canberra are checking in.\n",
    "\n",
    "The data is aggregated so all we know about is where people are from: Belconnen, Gungahlin, or Tuggeranong, and the general areas that they check in to.\n",
    "\n",
    "Let's generate some data. (Don't look at this code too closely.)"
   ]
  },
  {
   "cell_type": "code",
   "execution_count": null,
   "id": "9215bce0-cab3-4c16-863e-088f1b494c15",
   "metadata": {},
   "outputs": [],
   "source": [
    "np.random.seed(271828) # Make it repeatable.\n",
    "\n",
    "NDAYS = 28\n",
    "DAY0 = pd.Timestamp('2021-09-01')\n",
    "DATES = pd.date_range('2021-09-01', periods=NDAYS, freq='1D')\n",
    "PLACES = ['Tuggeranong Mall', 'Canberra Centre', 'Belconnen Town Centre', 'Bunnings Gungahlin']\n",
    "\n",
    "def biased_places(place):\n",
    "#     p = [i for i in PLACES if place in i]\n",
    "    return PLACES + [place] * 5\n",
    "\n",
    "def generate_checkins(n, area, roll, place):\n",
    "    a = np.random.randn(n)\n",
    "    a -= a.min()\n",
    "    a = a * ((NDAYS-1)/a.max()) + roll\n",
    "    bp = biased_places(place)\n",
    "    events = [(area, i, (DAY0+pd.Timedelta(f'{i}d')).round('1s'), random.choice(bp)) for i in a if 0<=i<=NDAYS]\n",
    "    return events\n",
    "\n",
    "checkins = (\n",
    "    generate_checkins(500, 'Belconnen', -14, PLACES[2]) +\n",
    "    generate_checkins(500, 'Belconnen', 14, PLACES[1]) +\n",
    "    generate_checkins(400, 'Tuggeranong', 14, PLACES[0]) +\n",
    "    generate_checkins(300, 'Gungahlin', 0, PLACES[3]) + \n",
    "    generate_checkins(200, 'Gungahlin', 10, PLACES[1]) \n",
    ")\n",
    "df = pd.DataFrame.from_records(checkins, columns=['From', 'Days', 'Date', 'Place']).sort_values('Place')\n",
    "# df"
   ]
  },
  {
   "cell_type": "markdown",
   "id": "bba23c68-4b3d-4920-84dd-a9601abdaa23",
   "metadata": {},
   "source": [
    "We can visualise the data using a seaborn swarmplot. (For some reason, a swarmplot takes forever to draw if the x-axis is a date, so I've substituted \"days from first date\" instead.)"
   ]
  },
  {
   "cell_type": "code",
   "execution_count": null,
   "id": "c2b2e61f-c6f2-411e-905d-3356630d5576",
   "metadata": {},
   "outputs": [],
   "source": [
    "fig, ax = plt.subplots(figsize=(12,8))\n",
    "ax = sns.swarmplot(data=df, x='Days', y='Place', hue='From', ax=ax)"
   ]
  },
  {
   "cell_type": "markdown",
   "id": "6bbf0a45-3f6b-4ec2-aa0d-d4a1614fabfc",
   "metadata": {},
   "source": [
    "Swarmplots are pretty neat. However, as the amount of data grows, they become harder to read. The different colored dots are intermingled, making it harder to compare counts (especially when the colors are similar). And if you go back to the data-generating cell and another zero to the `generate_checkins()` values (change 500 to 5000, etc), the swarmplot just runs out of room to put dots and displays warning messages. (Try it.)\n",
    "\n",
    "Let's see if we can do something with Holoviews. Holopviews doesn't have a swarmplot, so we'll have to try something different.\n",
    "\n",
    "(It should be noted that there is a different solution that copes with very large numbers, based on a library called `datashader`, but that solution is on the high side.)\n",
    "\n",
    "We'll start by grouping the by `From`, `Day`, and `Place`, and getting the size of each group. We can then create a scatter plot."
   ]
  },
  {
   "cell_type": "code",
   "execution_count": null,
   "id": "cd982e31-ce8b-430b-abc2-4a91780886be",
   "metadata": {},
   "outputs": [],
   "source": [
    "df['Day'] = df['Date'].dt.round('1d')\n",
    "df_days = df.groupby(['From', 'Day', 'Place'], as_index=False).size().sort_values(['Place', 'From'], ascending=[False, True])\n",
    "df_days"
   ]
  },
  {
   "cell_type": "code",
   "execution_count": null,
   "id": "e193ee08-99d7-4923-9694-b379a389fa43",
   "metadata": {},
   "outputs": [],
   "source": [
    "# Use the same colors as the seaborn swarmplot.\n",
    "# The colors won't look exactly the same in this plot,\n",
    "# because I'm using alpha=0.75 to try and make all of the dots visible.\n",
    "#\n",
    "cmap = {'Belconnen':'#4878d0', 'Gungahlin':'#ee854a', 'Tuggeranong':'#6acc64'}\n",
    "\n",
    "hv.Scatter(df_days, 'Day', ['Place', 'From', 'size']).opts(\n",
    "    width=800, height=400,\n",
    "    color='From',\n",
    "    size='size',\n",
    "    alpha=0.75,\n",
    "    cmap=cmap,\n",
    "    legend_position='top'\n",
    ")"
   ]
  },
  {
   "cell_type": "markdown",
   "id": "200e805b-fd81-4ba6-ac47-afeefd45be77",
   "metadata": {},
   "source": [
    "That's not much good. Because all the dots are in the same places, they cover each other up, so we're really only seeing the colors with the largest dots.\n",
    "\n",
    "The problem with the seaborn swarmplot and the Holoviews scatter plot is that we're trying to look at four dimensional data (`Day`, `Place`, `From`, `size/count`) in two spatial dimensions, and using color and a bunch of dots to squeeze the other data dimensions in.\n",
    "\n",
    "- First we use a list comprehension to split `df_days` and create a list of tuples, where each tuple is (area, dataframe for that area).\n",
    "- Then we use another list comprehension to create a scatter plot using each tuple.\n",
    "- Finally, we draw each of the scatter plots.\n",
    "\n",
    "If we have three plot elements `p1`, `p2`, and `p3`, we could draw them side-by-side using `p1 + p2 + p3`, which is a shortcut for putting the elements in a list and using `hv.Layout([p1, p2, p3])`. Because we already have a list of elements `plots`, we can draw them with `hv.Layout(plots)`. Then `.cols(1)` draws the plots in a single column.\n",
    "\n",
    "The options are applied a little differently here. The only option attached to the `hv.Scatter()` in the list comprehension is the color for that area. When the layout is drawn, `hv.opts.Scatter()` is used to apply those options to all of the Scatter elements."
   ]
  },
  {
   "cell_type": "code",
   "execution_count": null,
   "id": "3b858b32-3e36-45e5-b1f0-6c7d595e5a42",
   "metadata": {},
   "outputs": [],
   "source": [
    "areas = [(area, df_days[df_days['From']==area]) for area in ['Belconnen', 'Gungahlin', 'Tuggeranong']]\n",
    "\n",
    "plots = [hv.Scatter(from_df, 'Day', ['Place', 'size']).opts(color=cmap[area]) for area,from_df in areas]\n",
    "\n",
    "hv.Layout(plots).cols(1).opts(\n",
    "    hv.opts.Scatter(\n",
    "        width=800, height=400,\n",
    "        size='size',\n",
    "        alpha=0.75\n",
    "    )\n",
    ")"
   ]
  },
  {
   "cell_type": "markdown",
   "id": "33b18281-cca1-4bef-93b0-1358ba2784cf",
   "metadata": {},
   "source": [
    "Just for fun, we could overlay the individual plots and get back the original plot. (Compare this with the original plot.)"
   ]
  },
  {
   "cell_type": "code",
   "execution_count": null,
   "id": "9ddc6db8-408b-4646-af44-9c18e91845c3",
   "metadata": {},
   "outputs": [],
   "source": [
    "hv.Overlay(plots).opts(\n",
    "    hv.opts.Scatter(\n",
    "        width=800, height=400,\n",
    "        size='size',\n",
    "        alpha=0.75\n",
    "    )\n",
    ")"
   ]
  },
  {
   "cell_type": "markdown",
   "id": "6e9c21dc-d113-4597-a682-571b8f97b7ca",
   "metadata": {},
   "source": [
    "What we really want is to draw all three areas on the same plot, but be able to look at them one at a time. We can do that using a `HoloMap`, which is just a dictionary of Holoviews elements.\n",
    "\n",
    "The `plots` list we created above is a list of (area, dataframe) tuples; turning that into a dictionary {area:scatterplot} is trivial.\n",
    "\n",
    "A `HoloMap` is basically a visual (Python) dictionary; which plot you see depends on the dictionary key. Therefore, the kdim for a `HoloMap` is the area. In this case, we can call it whatever we want.\n",
    "\n",
    "(Depending on how big your browser window is, you might have to either change the width to be narrowwe, or make your browser bigger, then rerun the cell so you can see everything.)"
   ]
  },
  {
   "cell_type": "code",
   "execution_count": null,
   "id": "948b3c9e-a992-4613-b1cf-b276d7b22d10",
   "metadata": {},
   "outputs": [],
   "source": [
    "plot_map = {area:hv.Scatter(from_df, 'Day', ['Place', 'size']).opts(color=cmap[area]) for area,from_df in areas}\n",
    "\n",
    "holomap = hv.HoloMap(plot_map, kdims='Checkins from area').opts(\n",
    "    hv.opts.Scatter(\n",
    "        width=800, height=400,\n",
    "        size='size',\n",
    "        alpha=0.75\n",
    "    )\n",
    ")\n",
    "holomap"
   ]
  },
  {
   "cell_type": "markdown",
   "id": "8f6c13c7-8fe6-4931-bd6e-0db69774cd71",
   "metadata": {},
   "source": [
    "Alternatively, we can type a little more code and move the widget."
   ]
  },
  {
   "cell_type": "code",
   "execution_count": null,
   "id": "f8f00131-545d-480d-a576-677984ff74eb",
   "metadata": {},
   "outputs": [],
   "source": [
    "hv.output(holomap, widget_location='top_left')"
   ]
  },
  {
   "cell_type": "markdown",
   "id": "9b7fdf56-5e0d-4d2d-a731-11510da9fda9",
   "metadata": {},
   "source": [
    "Holoviews does all the right things for us. It adds a selection drop-down and populates it with the area keys, it redraws the correct scatter plot when we select a new area, and it even puts the right title on the plot. And unlike the swarmplot, it can handle any number of events (as long as we tweak the size to handle them)."
   ]
  },
  {
   "cell_type": "markdown",
   "id": "8b8f7cef-a9b8-41d2-ae69-efdc4b9b3ee7",
   "metadata": {},
   "source": [
    "## Time as the key dimension\n",
    "\n",
    "Since one of the dimensions is time, and we expect time to move, we could take time out of the plot, and change the plot over time. We'll create another HoloMap, but using the date as the key dimension instead of the area.\n",
    "\n",
    "Let's split up the grouped data by day, and have a look at one of the days. We'll use the same y-axis as before (\"where people are checking in\"), but this time the x-axis is \"the areas that people are coming from\". (I've also bumped the size up a bit.)"
   ]
  },
  {
   "cell_type": "code",
   "execution_count": null,
   "id": "775015cd-90ab-4817-96cc-640561f4220d",
   "metadata": {},
   "outputs": [],
   "source": [
    "per_day = [df_days[df_days['Day']==d] for d in DATES]\n",
    "\n",
    "d = -1\n",
    "print(per_day[d])\n",
    "hv.Scatter(per_day[d], 'From', ['Place', 'size']).opts(\n",
    "    width=500, height=400,\n",
    "    color='From',\n",
    "    size=hv.dim('size')*2,\n",
    "    cmap=cmap,\n",
    "    show_legend=False\n",
    ")"
   ]
  },
  {
   "cell_type": "markdown",
   "id": "3223db8e-bfaf-4e95-ace3-d9c40e7a5ab7",
   "metadata": {},
   "source": [
    "Comparing that with the same day of the swarmplot, things match up; lots of people from Belconnen going to the Canberra Centre, and plenty of people from Tuggeranong going to the local mall.\n",
    "\n",
    "We'll create a scatter plot from each day and store them in a HoloMap, keyed by date."
   ]
  },
  {
   "cell_type": "code",
   "execution_count": null,
   "id": "1e49de67-d280-412a-85ff-b5ddd446b4ee",
   "metadata": {},
   "outputs": [],
   "source": [
    "def scatter_day(d):\n",
    "    per_day = df_days[df_days['Day']==d]\n",
    "    return hv.Scatter(per_day, 'From', ['Place', 'size']).opts(\n",
    "        width=800, height=400,\n",
    "        color='From',\n",
    "        size=hv.dim('size')*2,\n",
    "        cmap=cmap,\n",
    "        show_grid=True,\n",
    "        show_legend=False\n",
    "    )\n",
    "\n",
    "scatters = {d:scatter_day(d) for d in DATES}\n",
    "hv.output(hv.HoloMap(scatters, kdims='Date'), widget_location='top_left')"
   ]
  },
  {
   "cell_type": "markdown",
   "id": "602aa7f5-4ed7-4d50-b7f9-0547bc24b4e2",
   "metadata": {},
   "source": [
    "Holoviews has recognised that the key is a date, and automatically added a date selector to the plot. You can move the slider to see what's happening on each day.\n",
    "\n",
    "For any given day, it's easier to compare all of the areas that people come from vs all the places where checkins are happening, because both of those are in the same plot."
   ]
  },
  {
   "cell_type": "code",
   "execution_count": null,
   "id": "20b6ba58-2ec6-4220-8d91-be7ae0ca4995",
   "metadata": {},
   "outputs": [],
   "source": []
  }
 ],
 "metadata": {
  "kernelspec": {
   "display_name": "Python 3 (ipykernel)",
   "language": "python",
   "name": "python3"
  },
  "language_info": {
   "codemirror_mode": {
    "name": "ipython",
    "version": 3
   },
   "file_extension": ".py",
   "mimetype": "text/x-python",
   "name": "python",
   "nbconvert_exporter": "python",
   "pygments_lexer": "ipython3",
   "version": "3.9.12"
  }
 },
 "nbformat": 4,
 "nbformat_minor": 5
}
