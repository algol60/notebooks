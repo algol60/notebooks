{
 "cells": [
  {
   "cell_type": "markdown",
   "id": "a17dcd19-33a7-4aef-9501-7fe5ebcc4cdf",
   "metadata": {},
   "source": [
    "# Bar charts\n",
    "\n",
    "In this notebook, we'll deep dive on Holoviews Bars, and do somethings with pandas dataframes along the way."
   ]
  },
  {
   "cell_type": "code",
   "execution_count": null,
   "id": "76d13fb7-9a70-4687-bc7b-b00937fc6d4a",
   "metadata": {},
   "outputs": [],
   "source": [
    "import pandas as pd\n",
    "import holoviews as hv\n",
    "\n",
    "hv.extension('bokeh')"
   ]
  },
  {
   "cell_type": "markdown",
   "id": "2e7bd3be-fa30-49a5-bc92-5adfaee2b037",
   "metadata": {},
   "source": [
    "The sample data we're looking at are the medal winners from the 2014 Olympics.\n",
    "\n",
    "## Data extraction\n",
    "\n",
    "The next cell fetches and displays the data. There's quite a lot of it: when you've finished looking, click on the blue bar to the left of the output cell to collapse the cell. (Move your mouse to the left of the output until the blue bar appears.)"
   ]
  },
  {
   "cell_type": "code",
   "execution_count": null,
   "id": "aa98e2ca-a6c8-4544-82c1-6d6982ac0d33",
   "metadata": {
    "tags": []
   },
   "outputs": [],
   "source": [
    "from bokeh.sampledata.olympics2014 import data\n",
    "data"
   ]
  },
  {
   "cell_type": "markdown",
   "id": "7588aa6b-619b-45a6-bcdd-8b50dc87892e",
   "metadata": {},
   "source": [
    "The data is in a dictionary with three top level keys. The interesting key is `data`, which contains a list of dictionaries. Fortunately, pandas knows how to intepret this."
   ]
  },
  {
   "cell_type": "code",
   "execution_count": null,
   "id": "b92530a6-9c28-4034-b60f-7104e04bf842",
   "metadata": {},
   "outputs": [],
   "source": [
    "df = pd.DataFrame.from_records(data['data'])\n",
    "df"
   ]
  },
  {
   "cell_type": "markdown",
   "id": "a3a6ba76-5910-409c-a38d-4284b2965dfd",
   "metadata": {},
   "source": [
    "The `name` and `abbr` columns are fine, but the `medals` column contains a list of medals in each row. We can easily extract the data in there to separate columns.\n",
    "\n",
    "### Extract medals - row by row\n",
    "\n",
    "One way to extract the medals is to use the `.apply()` method to extract the medals one column at a time. The `apply()` method applies a function row-by-row to the column to produce another column. In this case the function accesses the dictionary in the `medals` column."
   ]
  },
  {
   "cell_type": "code",
   "execution_count": null,
   "id": "ed0dea30-52cc-41f0-8c5a-035ec9922b81",
   "metadata": {},
   "outputs": [],
   "source": [
    "tmp_df = df.copy()\n",
    "for medal in ['gold', 'total', 'silver', 'bronze']:\n",
    "    tmp_df[medal] = tmp_df['medals'].apply(lambda m:m[medal])\n",
    "\n",
    "tmp_df.head()"
   ]
  },
  {
   "cell_type": "markdown",
   "id": "4537c020-adf7-4cda-a15e-39820b6ab942",
   "metadata": {},
   "source": [
    "### Extract medals - via another dataframe\n",
    "\n",
    "Using the `.apply()` method is slower than operating on entire column at a time. In fact, you should avoid using loops on dataframes if you can, in favour of using dataframe operations. (Sometimes it's unavoidable, because you want to do something that the datframe API can't handle. Sometimes it's just easier to use `.apply()`, and on a dataframe of this size, any speed difference won't be noticed.)\n",
    "\n",
    "We built the dataframe above by using `pd.DataFrame.from_records()` on a list of dictionaries. Since `df['medals']` is another list of dictionaries, we can do the same thing again."
   ]
  },
  {
   "cell_type": "code",
   "execution_count": null,
   "id": "e29ef154-458d-42f2-bec8-2966da432796",
   "metadata": {},
   "outputs": [],
   "source": [
    "medals_df = pd.DataFrame.from_records(df['medals'])\n",
    "medals_df"
   ]
  },
  {
   "cell_type": "markdown",
   "id": "889f3730-411c-4895-a733-c3eed506d434",
   "metadata": {},
   "source": [
    "Now we have two dataframes: the original `df`, and `medals_df` containing the medal columns. All we have to do is concatenate them. Since we're adding extra columns, we concatenate along the `columns` axis."
   ]
  },
  {
   "cell_type": "code",
   "execution_count": null,
   "id": "fa0c254f-0c7d-4571-883b-397bb6e03e92",
   "metadata": {},
   "outputs": [],
   "source": [
    "df = pd.concat([df, medals_df], axis='columns')\n",
    "df.head()"
   ]
  },
  {
   "cell_type": "markdown",
   "id": "f33b8057-83df-4980-8333-299b80958282",
   "metadata": {},
   "source": [
    "### Tidying up\n",
    "\n",
    "Whichever way we did it, we ended up with the same dataframe.\n",
    "\n",
    "We don't need the `medals` column any more (or `abbr` for that matter), so let's drop them."
   ]
  },
  {
   "cell_type": "code",
   "execution_count": null,
   "id": "d0037b58-a8dd-493b-b559-fd0aca39f879",
   "metadata": {},
   "outputs": [],
   "source": [
    "df = df.drop(columns=['medals', 'abbr'])\n",
    "df"
   ]
  },
  {
   "cell_type": "markdown",
   "id": "c11734d3-6207-4c4b-8f70-c6c3400c7983",
   "metadata": {},
   "source": [
    "## Plotting\n",
    "Let's get plotting, and visualise what we have."
   ]
  },
  {
   "cell_type": "code",
   "execution_count": null,
   "id": "8301d952-7414-460c-b224-06a4379a84f0",
   "metadata": {},
   "outputs": [],
   "source": [
    "hv.Bars(df, 'name', 'total')"
   ]
  },
  {
   "cell_type": "markdown",
   "id": "1ea1ec46-9665-4339-b472-3f5ae375a7a3",
   "metadata": {},
   "source": [
    "That was underwhelming. There are too many names to fit, and we'd have to make the plot really wide to see them all.\n",
    "\n",
    "Let's try keeping only the names that have a total greater than zero, and making the plot wider."
   ]
  },
  {
   "cell_type": "code",
   "execution_count": null,
   "id": "dff9b95f-508f-47c5-8bdf-0fed6f69fc34",
   "metadata": {},
   "outputs": [],
   "source": [
    "df = df[df['total']>0]\n",
    "\n",
    "hv.Bars(df, 'name', 'total').opts(width=800)"
   ]
  },
  {
   "cell_type": "markdown",
   "id": "18f29808-cb99-4571-98f0-199fed1d8b33",
   "metadata": {},
   "source": [
    "That's better, but we need to fix those names."
   ]
  },
  {
   "cell_type": "code",
   "execution_count": null,
   "id": "361302fe-88e2-43b4-9db3-6bb3091420bf",
   "metadata": {},
   "outputs": [],
   "source": [
    "bars = hv.Bars(df, 'name', 'total').opts(width=800, xrotation=45)\n",
    "bars"
   ]
  },
  {
   "cell_type": "markdown",
   "id": "6f91b73b-e89a-4d64-9b71-f5528aa2a26c",
   "metadata": {},
   "source": [
    "It's easy to find a particular country when they're in alphabetical order, but we're probably more interested in comparing countries. The bars should be sorted in order of total medals. Since Holoviews displays the dat in the order it comes, we just need to give it a sorted dataframe."
   ]
  },
  {
   "cell_type": "code",
   "execution_count": null,
   "id": "e843221f-15ba-4064-9509-7eab5f0462c6",
   "metadata": {},
   "outputs": [],
   "source": [
    "bars = hv.Bars(df.sort_values('total', ascending=False), 'name', 'total').opts(width=800, xrotation=45)\n",
    "bars"
   ]
  },
  {
   "cell_type": "markdown",
   "id": "0e0dcba3-1b29-40b8-a6dd-a7377146ed32",
   "metadata": {},
   "source": [
    "Another way of coping with many key values is to put them on the y axis so the bars are horizontal. The `invert_axes` option will do that. (We have to sort the values in the other direction, because Holoviews axes start at the bottom left.)"
   ]
  },
  {
   "cell_type": "code",
   "execution_count": null,
   "id": "bafe26d8-bf37-4bc2-b293-7b61cdf6229c",
   "metadata": {},
   "outputs": [],
   "source": [
    "hv.Bars(df.sort_values('total', ascending=True), 'name', 'total').opts(width=400, height=500, invert_axes=True)"
   ]
  },
  {
   "cell_type": "markdown",
   "id": "3493b554-457e-4a62-85c0-7f836aab00f8",
   "metadata": {},
   "source": [
    "Let's concentrate on the top ten countries. What does that mean, though? Is it top ten by medals won (which is what we've been looking at)?"
   ]
  },
  {
   "cell_type": "code",
   "execution_count": null,
   "id": "fd3e8322-2e19-48bf-be50-4704933b750a",
   "metadata": {},
   "outputs": [],
   "source": [
    "total_df = df.sort_values('total', ascending=False).head(10)\n",
    "total_df"
   ]
  },
  {
   "cell_type": "markdown",
   "id": "7212a5e5-3f79-4e3f-ba91-eacc676a99d6",
   "metadata": {},
   "source": [
    "Or top ten by gold, then silver, then bronze medals won? We generally do this one."
   ]
  },
  {
   "cell_type": "code",
   "execution_count": null,
   "id": "27959f48-2b8a-4464-ba42-f6a6649b332f",
   "metadata": {},
   "outputs": [],
   "source": [
    "medal_df = df.sort_values(['gold', 'silver', 'bronze'], ascending=False).head(10).reset_index(drop=True)\n",
    "medal_df"
   ]
  },
  {
   "cell_type": "code",
   "execution_count": null,
   "id": "d5a95615-09ed-4dba-beb7-926af511e0fc",
   "metadata": {},
   "outputs": [],
   "source": [
    "medal_bars = hv.Bars(medal_df, 'name', 'total').opts(width=800)\n",
    "medal_bars"
   ]
  },
  {
   "cell_type": "markdown",
   "id": "0cd22d9b-b992-43f7-a108-2eaad0593ec3",
   "metadata": {},
   "source": [
    "Incidentally, some plotting libraries make the bars different colors by default. There's no need, because the bar totals all belong to the same dimension. However, we can do that too if we want to.\n",
    "\n",
    "(Using `.options()` here is exactly the same as using `.opts()`, except the `medal_bars` element isn't modified.)"
   ]
  },
  {
   "cell_type": "code",
   "execution_count": null,
   "id": "c7e04360-c82a-4814-a5e7-d348ca4c5344",
   "metadata": {},
   "outputs": [],
   "source": [
    "medal_bars.options(color='name', cmap='isolum', show_legend=False)"
   ]
  },
  {
   "cell_type": "markdown",
   "id": "c4748944-92a6-410f-a391-28ccbacd4d0e",
   "metadata": {},
   "source": [
    "Given the disparity between the two different top tens, we should visualise the difference. We want to see nested bars, where the main dimension is `name` and the nested dimension contains `total` and `gold`.\n",
    "\n",
    "To do this, we need to melt the dataframe. Melting keeps \"identifier\" columns intact, and \"unpivots\" the remaining \"value\" columns so the column names become values. That means that the rows of the identifier columns have to be repeated for each column, so our 10 row dataframe with 4 \"value\" columns turns into a $10 \\times 4 = 40$ row dataframe.\n",
    "\n",
    "Here's `medal_df`."
   ]
  },
  {
   "cell_type": "code",
   "execution_count": null,
   "id": "40df2a3f-1197-4df6-9018-4baad18fb15d",
   "metadata": {},
   "outputs": [],
   "source": [
    "medal_df"
   ]
  },
  {
   "cell_type": "markdown",
   "id": "8d933739-974c-4cfb-824e-a71776869852",
   "metadata": {},
   "source": [
    "And here's `melted_df` using the name as the \"identifier\" column. The medal columns have become values, and the new columns are called `variable` and `value`.\n",
    "\n",
    "You can see why it's called `melt`: the `gold` column and values melt down next to the names, then the `total` column anf values melt down next to the names, and so on."
   ]
  },
  {
   "cell_type": "code",
   "execution_count": null,
   "id": "ee593a4f-fc49-481d-ab8c-18aa89b89959",
   "metadata": {},
   "outputs": [],
   "source": [
    "melted_df = medal_df.melt('name')\n",
    "melted_df"
   ]
  },
  {
   "cell_type": "markdown",
   "id": "e1a8811d-e190-4b43-b49d-0288bacfd734",
   "metadata": {},
   "source": [
    "Let's see the result."
   ]
  },
  {
   "cell_type": "code",
   "execution_count": null,
   "id": "138c82a4-29b0-40d7-93f6-8e0fead9a2ae",
   "metadata": {},
   "outputs": [],
   "source": [
    "hv.Bars(melted_df, ['name', 'variable'], 'value').opts(width=800, xrotation=90)"
   ]
  },
  {
   "cell_type": "markdown",
   "id": "d29d948f-1c90-454f-aa5b-7901d9d21fb0",
   "metadata": {},
   "source": [
    "That's pretty much what we want, though there's some tidying up to do.\n",
    "- For this comparison, we really only want to see the `total` and `gold` variables. We can remelt `medal_df` to only include those variable columns (and give the new columns better names).\n",
    "- We want appropriate non-misleading colors. We can specify specific colors for `total` and `gold` using a custom colormap."
   ]
  },
  {
   "cell_type": "code",
   "execution_count": null,
   "id": "aae58b66-6b64-49a8-8667-391f5de81383",
   "metadata": {},
   "outputs": [],
   "source": [
    "melted_df = medal_df.melt('name', ['gold', 'total'], var_name='type', value_name='count')\n",
    "cmap = {'gold':'gold', 'total':'Teal'}\n",
    "hv.Bars(melted_df, ['name', 'type'], 'count').opts(width=800, cmap=cmap)"
   ]
  },
  {
   "cell_type": "markdown",
   "id": "ed2cad81-6700-4d39-8063-18488efa3302",
   "metadata": {},
   "source": [
    "Another thing to look at would be the gold, silver, and bronze medals stacked to make the total. Let's remelt `medal_df` again.\n",
    "\n",
    "We'll display the `stacked_bars` chart above the `medals_bars` chart from above so we can double-check that the stacks add up correctly. We'll also remove the lines around the bars for a sparser look."
   ]
  },
  {
   "cell_type": "code",
   "execution_count": null,
   "id": "0f163029-3cf6-4ca9-bef5-7de62b0d6b7e",
   "metadata": {},
   "outputs": [],
   "source": [
    "melted_df = medal_df.melt('name', ['gold', 'silver', 'bronze'], var_name='type', value_name='count')\n",
    "cmap = {'gold':'gold', 'silver':'grey', 'bronze':'sandybrown'}\n",
    "stacked_bars = hv.Bars(melted_df, ['name', 'type'], 'count').opts(width=800, cmap=cmap, stacked=True)\n",
    "\n",
    "(stacked_bars + medal_bars).opts(\n",
    "    hv.opts.Bars(show_grid=True, line_color=None)\n",
    ").cols(1)"
   ]
  },
  {
   "cell_type": "code",
   "execution_count": null,
   "id": "6915c457-b9b3-41af-8d71-42df4b91c228",
   "metadata": {},
   "outputs": [],
   "source": []
  }
 ],
 "metadata": {
  "kernelspec": {
   "display_name": "Python 3 (ipykernel)",
   "language": "python",
   "name": "python3"
  },
  "language_info": {
   "codemirror_mode": {
    "name": "ipython",
    "version": 3
   },
   "file_extension": ".py",
   "mimetype": "text/x-python",
   "name": "python",
   "nbconvert_exporter": "python",
   "pygments_lexer": "ipython3",
   "version": "3.9.12"
  }
 },
 "nbformat": 4,
 "nbformat_minor": 5
}
