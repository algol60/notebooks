{
 "cells": [
  {
   "cell_type": "markdown",
   "id": "7187e683-bbf3-40e1-8e03-e5ce5faccead",
   "metadata": {},
   "source": [
    "# Visualisation using Holoviews\n",
    "\n",
    "This notebook contains examples of visualisation using Holoviews, an open-source Python library for data analysis and visualization. If you have any questions, contact your nearest AA representative.\n",
    "\n",
    "## Why Holoviews?\n",
    "\n",
    "There are quite a few plotting libraries for Python. In particular, matplotlib is widely used and very capable. However, matplotlib was first released in 2003, when the web was a simpler place, and tends to be aimed at static or printed output. It also has a very complex API, making it difficult to use.\n",
    "\n",
    "Holoviews is designed for the modern web, including Jupyter notebooks, and provides dynamic interactive output. With Holoviews, you first describe your data, then add  extra information to modify aspects of the visualisation.\n",
    "\n",
    "## Before we start\n",
    "\n",
    "You'll need to have Holoviews installed before continuing. If you haven't done so already, at a command prompt:\n",
    "```\n",
    "python -m pip install --user holoviews\n",
    "```\n",
    "\n",
    "Holoviews uses a lower level plotting library to draw visualisations. The next cell imports Holoviews, and tells it to use a library called `bokeh` for drawing.\n",
    "\n",
    "Although it is not required for Holoviews, we'll use pandas dataframes to hold our data, so we need to import `pandas` as well. Using dataframes means our data is already labelled with column names, and uses appropriate datatypes (numbers, strings, timestamps). Holoviews understands dataframes, so it makes things easier for us."
   ]
  },
  {
   "cell_type": "code",
   "execution_count": null,
   "id": "122faf1a-50c1-4c21-b913-012d0936222d",
   "metadata": {},
   "outputs": [],
   "source": [
    "import pandas as pd\n",
    "import holoviews as hv\n",
    "\n",
    "hv.extension('bokeh')"
   ]
  },
  {
   "cell_type": "markdown",
   "id": "6d10e07d-1e1c-4975-82ab-76b2700b66eb",
   "metadata": {},
   "source": [
    "This notebook has been written using Anaconda 2021.05 (Python 3.3.8) and Holoviews version 1.14.5."
   ]
  },
  {
   "cell_type": "code",
   "execution_count": null,
   "id": "e0180246-9b91-49b2-bce8-8135da724c73",
   "metadata": {},
   "outputs": [],
   "source": [
    "import sys\n",
    "print(sys.version)\n",
    "print(hv.__version__)"
   ]
  },
  {
   "cell_type": "markdown",
   "id": "14697b2e-8dc2-4aba-940d-901a97486e53",
   "metadata": {},
   "source": [
    "## Getting started\n",
    "\n",
    "We'll start with some simple examples to give you an idea of how Holoviews works.\n",
    "\n",
    "Before plotting any data, we need to know how to organise the data to make it plottable. The initial data set shows how many cups of coffee I drank last week."
   ]
  },
  {
   "cell_type": "code",
   "execution_count": null,
   "id": "59fc2e2d-569e-4d5f-9a45-717a042b7820",
   "metadata": {},
   "outputs": [],
   "source": [
    "coffee = pd.DataFrame({\n",
    "    'Day': ['Mon', 'Tue', 'Wed', 'Thu', 'Fri'],\n",
    "    'Cups': [3, 5, 3, 2, 7],\n",
    "    'Condition': ['OK', 'Nice', 'OK', 'Dull', 'Wow!']\n",
    "})\n",
    "coffee"
   ]
  },
  {
   "cell_type": "markdown",
   "id": "b92bca08-00ee-4f9f-bb3b-37348d185fdf",
   "metadata": {},
   "source": [
    "We start with a scatter plot, using `hv.Scatter`. If we give Holoviews a dataframe, we just need to specify which columns to use for the x and y axes."
   ]
  },
  {
   "cell_type": "code",
   "execution_count": null,
   "id": "30286ccb-0950-4472-a837-5a5bdb10e1ef",
   "metadata": {},
   "outputs": [],
   "source": [
    "hv.Scatter(coffee, 'Day', 'Cups')"
   ]
  },
  {
   "cell_type": "markdown",
   "id": "0de4f440-532d-4895-ae00-cbb6afd22f3c",
   "metadata": {},
   "source": [
    "That was pretty easy. Not only did we get a scatter plot, but the default options are such that the tick labels match the values, the axis labels match the column names, and we get some tools that we'll look at in a minute.\n",
    "\n",
    "Different kinds of charts work better with different kinds of data. Instead of points, let's use a curve."
   ]
  },
  {
   "cell_type": "code",
   "execution_count": null,
   "id": "1b45eb03-b174-445f-90b1-3654120dec08",
   "metadata": {},
   "outputs": [],
   "source": [
    "hv.Curve(coffee, 'Day', 'Cups')"
   ]
  },
  {
   "cell_type": "markdown",
   "id": "83c0deca-afe8-4500-a04b-59d683d7a149",
   "metadata": {},
   "source": [
    "Still pretty easy, we just changed the name of the method. Let's try a bar chart."
   ]
  },
  {
   "cell_type": "code",
   "execution_count": null,
   "id": "6157c493-43e4-4957-add8-5089c459e877",
   "metadata": {},
   "outputs": [],
   "source": [
    "hv.Bars(coffee, 'Day', 'Cups')"
   ]
  },
  {
   "cell_type": "markdown",
   "id": "4e3c8440-5c12-47f1-b828-51e1d419bba7",
   "metadata": {},
   "source": [
    "## Visualisation options\n",
    "\n",
    "Now we know how to feed data to Holoviews, we can look at the next step: modifying the visualisation.\n",
    "\n",
    "The scatter chart is functional, but the points are a bit small. Let's fix that.\n",
    "\n",
    "Holoviews keeps the data (days, values) and the metadata (column names, data types) separate from the presentation (colors, sizes, etc). Presentation options are specified using the `.opts()` method."
   ]
  },
  {
   "cell_type": "code",
   "execution_count": null,
   "id": "e5ac1811-d72d-4609-832e-4afb72f932dd",
   "metadata": {},
   "outputs": [],
   "source": [
    "hv.Scatter(coffee, 'Day', 'Cups').opts(size=10)"
   ]
  },
  {
   "cell_type": "markdown",
   "id": "ceaaa89a-db88-4caf-940a-af12089044ed",
   "metadata": {},
   "source": [
    "Now the dots are more visible. If you don't like the default steelblue color, you can change that as well."
   ]
  },
  {
   "cell_type": "code",
   "execution_count": null,
   "id": "d74be43a-84c3-44a8-ab46-8c5e53aec888",
   "metadata": {},
   "outputs": [],
   "source": [
    "hv.Scatter(coffee, 'Day', 'Cups').opts(size=10, color='red')"
   ]
  },
  {
   "cell_type": "markdown",
   "id": "c7c4fada-9d69-4949-b892-9ad4a86a72a3",
   "metadata": {},
   "source": [
    "If only the plot was a little bigger, and there was a grid so it was easier to see where the dots are. Also, circles are boring."
   ]
  },
  {
   "cell_type": "code",
   "execution_count": null,
   "id": "dda2d61f-4ce0-40e7-8a28-eaa49ab65c2c",
   "metadata": {},
   "outputs": [],
   "source": [
    "hv.Scatter(coffee, 'Day', 'Cups').opts(\n",
    "    width=400, height=400,\n",
    "    marker='s',\n",
    "    size=10,\n",
    "    color='red',\n",
    "    show_grid=True\n",
    ")"
   ]
  },
  {
   "cell_type": "markdown",
   "id": "1893c7d4-de63-44eb-9ae1-31d6c98a902f",
   "metadata": {},
   "source": [
    "Some of these options can be applied to a curve as well. The `marker` and `size` options are specific to a scatter plot, but a curve has a width. The color can be a know name ('red', 'green', 'blue', etc) or you can specify a web color."
   ]
  },
  {
   "cell_type": "code",
   "execution_count": null,
   "id": "435213ea-a8fc-478b-a7fe-2a40f80e57c6",
   "metadata": {},
   "outputs": [],
   "source": [
    "hv.Curve(coffee, 'Day', 'Cups').opts(\n",
    "    width=400,\n",
    "    height=400,\n",
    "    line_width=10,\n",
    "    color='#ff7f00',\n",
    "    show_grid=True\n",
    ")"
   ]
  },
  {
   "cell_type": "markdown",
   "id": "3ade3867-5ae5-4e45-b1c8-e7745d7df12f",
   "metadata": {},
   "source": [
    "Unsurprisingly, options work for bars as well. Note that Holoviews elements are objects that can be assigned to names."
   ]
  },
  {
   "cell_type": "code",
   "execution_count": null,
   "id": "d8b34d92-2891-4d7d-b61e-d8c62d0037a4",
   "metadata": {},
   "outputs": [],
   "source": [
    "coffee_bars = hv.Bars(coffee, 'Day', 'Cups').opts(\n",
    "    width=400, height=400,\n",
    "    color='slategrey',\n",
    "    show_grid=True\n",
    ")\n",
    "coffee_bars"
   ]
  },
  {
   "cell_type": "markdown",
   "id": "1e888ea7-3ff7-49ee-8813-63ed79588d77",
   "metadata": {},
   "source": [
    "How can we find what style options (color, line style, etc) and plot options (specific to the element) are avilable? Use `hv.help()`. For example, the next cell shows the many options available for `hv.Bars`. We'll look at some of these options below. For now, find out what happens when you add `invert_axes=True` to the `hv.Bars` example above."
   ]
  },
  {
   "cell_type": "code",
   "execution_count": null,
   "id": "f4ac34d3-9f48-4af1-ab6b-b64bc8abf651",
   "metadata": {},
   "outputs": [],
   "source": [
    "hv.help(hv.Bars)"
   ]
  },
  {
   "cell_type": "markdown",
   "id": "1aa8770c-dfea-490a-aeb6-abc41e5fe00b",
   "metadata": {},
   "source": [
    "## Curve: Olympics 100m sprint"
   ]
  },
  {
   "cell_type": "markdown",
   "id": "cf1e59b9-2f34-4736-b327-f4c8849769bb",
   "metadata": {},
   "source": [
    "Let's look at something a little more complicated: the gold, silver and bronze medal winners of the Olympics 100m sprint."
   ]
  },
  {
   "cell_type": "code",
   "execution_count": null,
   "id": "11e2d4cf-80de-48b0-a8a7-aa0092fd5b62",
   "metadata": {},
   "outputs": [],
   "source": [
    "from bokeh.sampledata.sprint import sprint\n",
    "sprint = sprint.copy()\n",
    "sprint"
   ]
  },
  {
   "cell_type": "markdown",
   "id": "f1a063cb-78ea-4fdb-ae84-7d5eb4771fed",
   "metadata": {},
   "source": [
    "We know how to plot a curve of year against time."
   ]
  },
  {
   "cell_type": "code",
   "execution_count": null,
   "id": "2cb5187e-b52a-4057-9baa-5e3b6e2ea325",
   "metadata": {},
   "outputs": [],
   "source": [
    "hv.Curve(sprint, 'Year', 'Time')"
   ]
  },
  {
   "cell_type": "markdown",
   "id": "8ea9178c-77ea-4d81-ab8f-c0f888715df9",
   "metadata": {},
   "source": [
    "We've plotted a single curve using all of the data, but there are actually three sets of data that we want to look at and compare: gold, silver, and bronze medal times.\n",
    "\n",
    "We'll extract each medal into a separate dataframe using standard dataframe filtering, create a plot for each one, and look at the plots. Holoviews can display plots in a side-by-side layout."
   ]
  },
  {
   "cell_type": "code",
   "execution_count": null,
   "id": "f58994bd-419b-4895-81bf-f569a8c4afa4",
   "metadata": {},
   "outputs": [],
   "source": [
    "gold_df = sprint[sprint['Medal']=='GOLD']\n",
    "silver_df = sprint[sprint['Medal']=='SILVER']\n",
    "bronze_df = sprint[sprint['Medal']=='BRONZE']\n",
    "\n",
    "gold_medals = hv.Curve(gold_df, 'Year', 'Time')\n",
    "silver_medals = hv.Curve(silver_df, 'Year', 'Time')\n",
    "bronze_medals = hv.Curve(bronze_df, 'Year', 'Time')\n",
    "\n",
    "hv.Layout([gold_medals, silver_medals, bronze_medals])"
   ]
  },
  {
   "cell_type": "markdown",
   "id": "ae778bda-5bf2-455e-99e9-f94400a22fdc",
   "metadata": {},
   "source": [
    "We can use `+` as a shortcut for a layout. We can also use `.cols()` to specify a number of columns for the layout."
   ]
  },
  {
   "cell_type": "code",
   "execution_count": null,
   "id": "0158340b-e4a8-475e-9e72-2bbf66e9386f",
   "metadata": {},
   "outputs": [],
   "source": [
    "(gold_medals + silver_medals + bronze_medals).cols(1)"
   ]
  },
  {
   "cell_type": "markdown",
   "id": "0a144f30-4bb0-4bdf-badb-626fa7d6f809",
   "metadata": {},
   "source": [
    "That's all very well, but what we really want to do is plot the three sets of data in one chart. We can do that using `hd.Overlay()`, or use the `*` shortcut."
   ]
  },
  {
   "cell_type": "code",
   "execution_count": null,
   "id": "6bc55e9e-e3c9-42ff-b90d-4d986771e567",
   "metadata": {},
   "outputs": [],
   "source": [
    "gold_medals * silver_medals * bronze_medals"
   ]
  },
  {
   "cell_type": "markdown",
   "id": "6e8f86cd-2f7b-4b38-b827-6f74eb2c8296",
   "metadata": {},
   "source": [
    "Basic, but not very useful. Let's go back and recreate the plots, but this time we'll add a label to the metadata."
   ]
  },
  {
   "cell_type": "code",
   "execution_count": null,
   "id": "be6e254e-a30b-4b3d-bc5a-678fd954821e",
   "metadata": {},
   "outputs": [],
   "source": [
    "gold_medals = hv.Curve(gold_df, 'Year', 'Time', label='Gold')\n",
    "silver_medals = hv.Curve(silver_df, 'Year', 'Time', label='Silver')\n",
    "bronze_medals = hv.Curve(bronze_df, 'Year', 'Time', label='Bronze')\n",
    "\n",
    "gold_medals * silver_medals * bronze_medals"
   ]
  },
  {
   "cell_type": "markdown",
   "id": "b0e66c9b-624f-4186-9343-9748a76a70bf",
   "metadata": {},
   "source": [
    "Holoviews has automatically added a legend for us, using the labels in the metadata. Nice. But the colors don't match what we think they should be; fortunately we know how to fix that."
   ]
  },
  {
   "cell_type": "code",
   "execution_count": null,
   "id": "b0685f16-c484-449e-bd77-b502e3f5c465",
   "metadata": {},
   "outputs": [],
   "source": [
    "medals = gold_medals.opts(color='gold') * silver_medals.opts(color='grey') * bronze_medals.opts(color='sandybrown')\n",
    "medals"
   ]
  },
  {
   "cell_type": "markdown",
   "id": "708cb0b5-896b-4825-894a-b53d698d2032",
   "metadata": {},
   "source": [
    "Let's pause for a moment and look at the tools that Holoviews provides. From top to bottom:\n",
    "- By default, the panning tool is enabled: you can just grab the plot with your mouse and pan it vertically and horizontally.\n",
    "- The box zoom tool lets you select a rectangle with the mouse to zoom in on that area.\n",
    "- If you click the wheel zoom tool (the mouse with the magnifying glass), you can use the mouse wheel to zoom in and out.\n",
    "- The save tool saves the plot as an image.\n",
    "- The reset tool resets the plot to its original state.\n",
    "\n",
    "The plot is interactive: as well as the tools, you can click on the legend elements to de-emphasise them."
   ]
  },
  {
   "cell_type": "markdown",
   "id": "3ffe2f3a-0132-47fb-807b-fc9ec7d7de04",
   "metadata": {},
   "source": [
    "Now we add some finishing touches, including a title."
   ]
  },
  {
   "cell_type": "code",
   "execution_count": null,
   "id": "935f102e-f83f-456a-ac4b-a59f808f47d2",
   "metadata": {},
   "outputs": [],
   "source": [
    "medals.opts(width=600, show_grid=True, title='Olympic 100m medal winning times')"
   ]
  },
  {
   "cell_type": "markdown",
   "id": "b4b70c1b-56d4-48e4-b5ec-a466f76618b8",
   "metadata": {},
   "source": [
    "### Adding the winners - kdims and vdims\n",
    "\n",
    "It's a nice chart, but it doesn't tell us anything about the gold medal winners. To find out who the winners are, we need to add labels to the plot.\n",
    "\n",
    "To see how labels work, let's go back to the coffee situation."
   ]
  },
  {
   "cell_type": "code",
   "execution_count": null,
   "id": "988e5a96-6665-42af-b38f-987cdb977e84",
   "metadata": {},
   "outputs": [],
   "source": [
    "coffee_situation = hv.Bars(coffee, kdims='Day', vdims='Cups')\n",
    "coffee_situation"
   ]
  },
  {
   "cell_type": "markdown",
   "id": "4b82f418-f0a7-482a-b284-6d8ac3d215c1",
   "metadata": {},
   "source": [
    "So far the charts have had two dimensions: x and y. Holoviews considers these as belonging to the key dimensions (`kdims`) and the value dimensions (`vdims`). The kdims contain independent variables (for example, day of the week, year of the Olympics), and the vdims contain dependent variables which depend on the kdims (for example, the number of cups of coffee drunk depends on the day, the winning time depends on the year).\n",
    "\n",
    "Different elements have different numbers of required key dimensions and value dimensions. For instance, a `Bars` element requires a key dimension and a value dimension.\n",
    "\n",
    "The `Label` element requires two `kdims` dimensions and a `vdims` dimension. This makes sense, the winner's name (the vdim) depends on the year and the time (the kdim). Let's try it."
   ]
  },
  {
   "cell_type": "code",
   "execution_count": null,
   "id": "019849be-7513-488f-a1b5-3095617f58ff",
   "metadata": {},
   "outputs": [],
   "source": [
    "coffee_labels = hv.Labels(coffee, kdims=['Day', 'Cups'], vdims='Condition')\n",
    "coffee_labels"
   ]
  },
  {
   "cell_type": "markdown",
   "id": "1d3ae224-8a4f-4626-9301-f69c2437da17",
   "metadata": {},
   "source": [
    "Comparing that with the bar chart above, it looks pretty good. All we need to do now is overlay the bar plot with the label plot."
   ]
  },
  {
   "cell_type": "code",
   "execution_count": null,
   "id": "808c5d8b-a306-4fca-8033-73c14f223543",
   "metadata": {},
   "outputs": [],
   "source": [
    "coffee_situation * coffee_labels"
   ]
  },
  {
   "cell_type": "markdown",
   "id": "0f8999c2-8bb1-4a2d-8e92-94d627dae550",
   "metadata": {},
   "source": [
    "Hmm, not quite: the labels are in exactly the right positions to match the `Day` and `Cups` axes, but not for a pleasing visualisation. That's easily fixed, though: we just `.opts()` to tell the `hv.Labels` element to offset the labels in the `y` direction.."
   ]
  },
  {
   "cell_type": "code",
   "execution_count": null,
   "id": "86df24a4-c041-4cfc-a6bc-ae765725e63f",
   "metadata": {},
   "outputs": [],
   "source": [
    "coffee_situation * coffee_labels.opts(yoffset=0.2)"
   ]
  },
  {
   "cell_type": "markdown",
   "id": "78f628c0-bc77-4047-88c4-79ed15b86dcc",
   "metadata": {},
   "source": [
    "Better.\n",
    "\n",
    "Let's try creating labels for the gold medal winners. (Now that we know what `kdims` and `vdims` are required for `Labels`, I haven't bothered using the explicit parameter names.)"
   ]
  },
  {
   "cell_type": "code",
   "execution_count": null,
   "id": "e2dbee6a-c6b8-41fb-a8d1-92062f2c352f",
   "metadata": {},
   "outputs": [],
   "source": [
    "labels = hv.Labels(gold_df, ['Year', 'Time'], 'Name')\n",
    "labels.opts(width=700)"
   ]
  },
  {
   "cell_type": "markdown",
   "id": "794f71da-9f8b-44f2-8fc1-8f0265669b28",
   "metadata": {},
   "source": [
    "Oh dear. We have exactly what we wanted, but we didn't really want that, all overlapping and stuff. We'll have to try a different way.\n",
    "\n",
    "In the next cell, I've explicitly labelled the `kdims` and `vdims` parameters. They're the same parameters we've been using all along, so it obviously isn't mandatory; I'm just making it obvious. We're creating a scatter plot with `kdims` `Year` and `vdims` `Time` and `Name`. The scatter plot will use the kdim (`Year`) and the first vdim (`Time`) as before to draw dots."
   ]
  },
  {
   "cell_type": "code",
   "execution_count": null,
   "id": "b3f4a255-8651-4191-898b-163a199988d9",
   "metadata": {},
   "outputs": [],
   "source": [
    "gold_scatter = hv.Scatter(gold_df, kdims='Year', vdims=['Time', 'Name']).opts(width=700, size=4, color='black')\n",
    "gold_scatter"
   ]
  },
  {
   "cell_type": "markdown",
   "id": "9575087c-b71e-4bf7-8de4-6caed652ce0a",
   "metadata": {},
   "source": [
    "Hmm, that didn't do anything obvious. But let's add the hover tool to the available tools. We can use `gold_scatter` with its existing options, and just add a `tools` option to enable the hover tool."
   ]
  },
  {
   "cell_type": "code",
   "execution_count": null,
   "id": "d7b4b909-9c9a-4095-a5ce-751a827ba73e",
   "metadata": {},
   "outputs": [],
   "source": [
    "names = gold_scatter.opts(tools=['hover'])\n",
    "names"
   ]
  },
  {
   "cell_type": "markdown",
   "id": "30b1502d-9cd9-4a37-8a86-a3b0962c384f",
   "metadata": {},
   "source": [
    "It looks exactly the same. However, you should see an extra enabled \"Hover\" icon in the tool list. If you move the mouse over the chart, it changes to a hover cursor. If you move over any of the points, you'll see the data for the point displayed, including the name dimension. (Of course, you can customise what displays in the hover label, but we'll leave that for now.)\n",
    "\n",
    "So now we have a plot that shows medal winning times, and another plot that shows winner's names.\n",
    "\n",
    "I think we all know what happens next."
   ]
  },
  {
   "cell_type": "code",
   "execution_count": null,
   "id": "5c3f6314-412e-4d3d-9b22-72b2b18157ea",
   "metadata": {},
   "outputs": [],
   "source": [
    "medals * names"
   ]
  },
  {
   "cell_type": "markdown",
   "id": "c3a04425-74f3-41d8-bba7-5950022a77ae",
   "metadata": {},
   "source": [
    "Something else has happened as well. We didn't specify a width option, but the width came out as 700. That's because each plot element remembers its options, and both `medals` and `names` had `width=700`, so Holoviews did the right thing when combining them. On the other hand, they each had a different title (well, names didn't have a title at all), so it refused to pick one and kept the default of no title. Likewise, `show_grid` was True in one, False in the other, so it remained the default False.\n",
    "\n",
    "We can add some finishing touches (again). We'll add another refinement: making the `wheel_zoom` tool active by default, so you don't have to click on it before zooming. (Try it.) Also, the curves are a bit close to the edges, so we'll add some padding all around."
   ]
  },
  {
   "cell_type": "code",
   "execution_count": null,
   "id": "5e8b17a3-b088-42f5-9bbc-81fe2cff09c3",
   "metadata": {},
   "outputs": [],
   "source": [
    "winners = medals * names\n",
    "winners.opts(\n",
    "    show_grid=True,\n",
    "    title='Olympic 100m winners',\n",
    "    active_tools=['wheel_zoom'],\n",
    "    padding=0.1\n",
    ")"
   ]
  },
  {
   "cell_type": "markdown",
   "id": "61e9252b-24e8-458d-a405-c5809b82ca99",
   "metadata": {},
   "source": [
    "It should be pointed out that there's some misdirection being displayed here. The time values range between roughly 9.5 and 12.5, giving an exaggerated sense of how much times have improved. to display a more realistic plot, the y-axis should really start from 0.\n",
    "\n",
    "To do that, use the `ylim` option, with a value of `(0, None)` indicating that the y-axis should range from 0 to whatever. The legend is now in an awkward place, so we'll move that as well."
   ]
  },
  {
   "cell_type": "code",
   "execution_count": null,
   "id": "db9c2c62-e681-4bc2-b2e1-431b92a89f45",
   "metadata": {},
   "outputs": [],
   "source": [
    "winners.opts(\n",
    "    ylim=(0, None),\n",
    "    legend_position='bottom_left'\n",
    ")"
   ]
  },
  {
   "cell_type": "markdown",
   "id": "4da73437-e623-494f-86d9-63b655788f0f",
   "metadata": {},
   "source": [
    "Is this plot better than the previous one? It depends what you want to focus on."
   ]
  },
  {
   "cell_type": "markdown",
   "id": "54528916-fbb2-4b5c-a935-8d15085ba672",
   "metadata": {},
   "source": [
    "## More vdims\n",
    "\n",
    "Let's look at another use for multiple vdims.\n",
    "\n",
    "We have some automobile data; specifically, car names, year of introduction, and miles-per-gallon. We want to find out if cars became more efficient over the years."
   ]
  },
  {
   "cell_type": "code",
   "execution_count": null,
   "id": "0e8288f9-2653-4da5-80c8-b22668edb0b6",
   "metadata": {},
   "outputs": [],
   "source": [
    "from bokeh.sampledata.autompg import autompg\n",
    "autompg = autompg.copy()\n",
    "autompg"
   ]
  },
  {
   "cell_type": "markdown",
   "id": "507beff8-7907-462e-8b43-da81458c9f1a",
   "metadata": {},
   "source": [
    "The first word of each car name is the manufacturer: we'll split the string and keep the first word. Then, to see what we're dealing with, we'll group by manufacturer and year and create a scatter plot to see which manufacturers introduced a car in each year."
   ]
  },
  {
   "cell_type": "code",
   "execution_count": null,
   "id": "69d7ce0f-3c2e-48dd-b672-e84e26be9c27",
   "metadata": {},
   "outputs": [],
   "source": [
    "autompg['manufacturer'] = autompg['name'].str.split().apply(lambda lst:lst[0])\n",
    "manu_year = autompg[['manufacturer', 'yr']].groupby(['manufacturer', 'yr'], as_index=False).size()\n",
    "manu_year"
   ]
  },
  {
   "cell_type": "code",
   "execution_count": null,
   "id": "753dbbda-7067-417b-b404-c7046db721bd",
   "metadata": {},
   "outputs": [],
   "source": [
    "manu_year.describe()"
   ]
  },
  {
   "cell_type": "markdown",
   "id": "45dcf434-39b8-4318-bd24-e15054fe67f5",
   "metadata": {},
   "source": [
    "Describing the dataframe tells us we have the years 70 to 82, and between 1 and 6 cars introduced by each manufacturer for at least one year. To create the scatter plot, we'll use the `responsive=True` option to automcatically adjust the width of the plot to your browser width."
   ]
  },
  {
   "cell_type": "code",
   "execution_count": null,
   "id": "7c10b511-21a8-41df-9b77-bd6c48558adb",
   "metadata": {},
   "outputs": [],
   "source": [
    "hv.Scatter(manu_year, 'yr', 'manufacturer').opts(height=500, responsive=True)"
   ]
  },
  {
   "cell_type": "markdown",
   "id": "1a6befb0-9845-4476-9c65-aead4c3ec788",
   "metadata": {},
   "source": [
    "Sigh. Even the sample data needs cleaning. Let's get to it, and redo everything."
   ]
  },
  {
   "cell_type": "code",
   "execution_count": null,
   "id": "1ee57421-eafa-4bc3-82f8-c2d8edd04775",
   "metadata": {},
   "outputs": [],
   "source": [
    "autompg.loc[autompg['manufacturer']=='chevy', 'manufacturer'] = 'chevrolet'\n",
    "autompg.loc[autompg['manufacturer']=='chevroelt', 'manufacturer'] = 'chevrolet'\n",
    "autompg.loc[autompg['manufacturer']=='maxda', 'manufacturer'] = 'mazda'\n",
    "autompg.loc[autompg['manufacturer']=='mercedes-benz', 'manufacturer'] = 'mercedes'\n",
    "autompg.loc[autompg['manufacturer']=='toyouta', 'manufacturer'] = 'toyota'\n",
    "autompg.loc[autompg['manufacturer']=='vokswagen', 'manufacturer'] = 'volkswagen'\n",
    "autompg.loc[autompg['manufacturer']=='vw', 'manufacturer'] = 'volkswagen'\n",
    "\n",
    "manu_year = autompg[['manufacturer', 'yr']].groupby(['manufacturer', 'yr'], as_index=False).size().rename(columns={'size':'ncars'})\n",
    "manu_year"
   ]
  },
  {
   "cell_type": "code",
   "execution_count": null,
   "id": "ed975b4b-3981-421d-a3de-1c18f166a8c5",
   "metadata": {},
   "outputs": [],
   "source": [
    "max_manu_cars = manu_year['ncars'].max()\n",
    "title = f'Most cars introduced by a single manufacturer in a year: {max_manu_cars}'\n",
    "\n",
    "hv.Scatter(manu_year, 'yr', 'manufacturer').opts(\n",
    "    height=500,\n",
    "    size=4,\n",
    "    responsive=True,\n",
    "    show_grid=True,\n",
    "    title=title\n",
    ")"
   ]
  },
  {
   "cell_type": "markdown",
   "id": "7068a076-5e42-49cc-816e-784cef533b52",
   "metadata": {},
   "source": [
    "The scatter plot tells us in which years each manufacturer introduced a car, so we can tell that Volkswagen is prolific, but Triumph much less so. What the plot doesn't tell us is which manufacturers introduced more cars in which years. For that, we need to add another vdim. In the cell above, we specified `size=4` for the points. In this cell, we'll specify  that the size of the dots is the valus of the `ncars` vdim."
   ]
  },
  {
   "cell_type": "code",
   "execution_count": null,
   "id": "52f88d09-3668-4513-ad5d-156bde676919",
   "metadata": {},
   "outputs": [],
   "source": [
    "hv.Scatter(manu_year, 'yr', ['manufacturer', 'ncars']).opts(\n",
    "    size='ncars',\n",
    "    height=500,\n",
    "    responsive=True,\n",
    "    show_grid=True,\n",
    "    title='plain'\n",
    ")"
   ]
  },
  {
   "cell_type": "markdown",
   "id": "ae48f85e-af3e-4743-99ea-143fe48d4fa8",
   "metadata": {},
   "source": [
    "That's pretty cool - the more cars introduced, the larger the dot size. It's a bit unfortunate that the number of cars ranges from 1 to 6, because the dots come out a bit small. There are a couple of ways we can fix that, though. One would be to create another column in the dataframe which is a multiple of `ncars` and use that as the vdim.\n",
    "\n",
    "We don't need to do that: Holoviews is clever enough to help us out."
   ]
  },
  {
   "cell_type": "code",
   "execution_count": null,
   "id": "0829642f-c659-4328-a0b7-2df0fbcb04c0",
   "metadata": {},
   "outputs": [],
   "source": [
    "hv.Scatter(manu_year, 'yr', ['manufacturer', 'ncars']).opts(\n",
    "    size=hv.dim('ncars')*8,\n",
    "    alpha=0.5,\n",
    "    height=500,\n",
    "    responsive=True,\n",
    "    show_grid=True,\n",
    "    title='boosted'\n",
    ")"
   ]
  },
  {
   "cell_type": "markdown",
   "id": "3079478f-b1ef-4e07-8f2f-b9420537b632",
   "metadata": {},
   "source": [
    "When we used `size='ncars'` in the \"plain\" plot, we were telling `hv.Scatter` to use the `ncars` dimension as the dot size. Using `size='ncars'` is a shortcut for `size=hv.dim('ncars')`, but `hv.Scatter` knows what we mean in context.\n",
    "\n",
    "If we want to multiply the size, we can't use `size='ncars'*8`, because that means something else in Python. (You get an Internet point if you know what `'ncars'*8` does.) Therefore, we have to explicitly use `hv.dim('ncars')` to tell `hv.Scatter` that we mean the dimension `ncars`, not the string `'ncars'`.\n",
    "\n",
    "The resulting \"boosted\" plot tells us which manufacturers introduced more cars (Chevrolet and Ford - shocked Pikachu face), which was what we wanted to know. However, we don't know what the actual values are.\n",
    "\n",
    "(Admittedly I went a bit overboard when I multiplied by 8, but it gave me an opportunity to introduce the `alpha` style option to make the dots semi-transparent.)\n",
    "\n",
    "Now we've figured that out, let's get back to our original objective - discovering change in mpg over years.\n",
    "\n",
    "We'll group the data by manufacturer and year, and find the mean mpg for each group"
   ]
  },
  {
   "cell_type": "code",
   "execution_count": null,
   "id": "55b39fa0-a0e9-4106-9817-0926ed4a4ef4",
   "metadata": {},
   "outputs": [],
   "source": [
    "# We're using the 'mpg' column.\n",
    "#\n",
    "col = 'mpg'\n",
    "\n",
    "# Agregate using mean mpg.\n",
    "# These both do the same thing, use whichever one makes the most sense.\n",
    "#\n",
    "# agg = autompg[['manufacturer', 'yr', col]].groupby(['manufacturer', 'yr'], as_index=False).agg({col:'mean'})\n",
    "agg = autompg[['manufacturer', 'yr', col]].groupby(['manufacturer', 'yr'], as_index=False)[col].agg('mean')\n",
    "agg"
   ]
  },
  {
   "cell_type": "markdown",
   "id": "07c8c2e1-3f7d-4f6e-bcd6-4f27bd403cad",
   "metadata": {},
   "source": [
    "And now we'll plot the results using `mpg` for the dot size, as above."
   ]
  },
  {
   "cell_type": "code",
   "execution_count": null,
   "id": "1df9ed35-75d9-4f06-b5ff-bc7ff054ef14",
   "metadata": {},
   "outputs": [],
   "source": [
    "hv.Scatter(agg, 'yr', ['manufacturer', col]).opts(\n",
    "    size=col,\n",
    "    alpha=0.5,\n",
    "    height=500,\n",
    "    responsive=True,\n",
    "    title=f'Size is mean {col}'\n",
    ")"
   ]
  },
  {
   "cell_type": "markdown",
   "id": "f8b12085-9aa5-4078-8aad-6b82580e9d87",
   "metadata": {},
   "source": [
    "That worked nicely. We can see that the dots are generally getting bigger from left to right, so that sort of answers our question.\n",
    "\n",
    "The dots are too big, but we can easily fix that in the same way we fixed `ncars` above. However, we don't really have an idea of what the values are. We could use an `hv.Labels` element add values to the plot, but it would spoil the stark simplicitly.\n",
    "\n",
    "Let's try applying the `mpg` dimension to the color instead of the size."
   ]
  },
  {
   "cell_type": "code",
   "execution_count": null,
   "id": "2679dab7-9da8-4b7b-b64e-711aae6f9f01",
   "metadata": {},
   "outputs": [],
   "source": [
    "hv.Scatter(agg, 'yr', ['manufacturer', col]).opts(\n",
    "    height=500,\n",
    "    responsive=True,\n",
    "    size=10,\n",
    "    color=col,\n",
    "    cmap='Viridis'\n",
    ")"
   ]
  },
  {
   "cell_type": "markdown",
   "id": "d9d34d68-e00b-41f1-a581-0ee41633fed0",
   "metadata": {},
   "source": [
    "Personally I think it's easier to see the change using colors - cars did generally get more miles-per-gallon over the years from 1970 to 1982.\n",
    "\n",
    "We still don't kow what the values are, but we can add a colorbar to tell us."
   ]
  },
  {
   "cell_type": "code",
   "execution_count": null,
   "id": "9b2b2a9d-75c2-4fbe-9fe6-7ea4266bf358",
   "metadata": {},
   "outputs": [],
   "source": [
    "hv.Scatter(agg, 'yr', ['manufacturer', col]).opts(\n",
    "    height=500,\n",
    "    responsive=True,\n",
    "    size=10,\n",
    "    color=col,\n",
    "    cmap='Viridis',\n",
    "    colorbar=True\n",
    ")"
   ]
  },
  {
   "cell_type": "markdown",
   "id": "e5702bef-31e9-4641-9827-7761ee2e3c04",
   "metadata": {},
   "source": [
    "There are many different uniform sequential colormaps we could have used here. Pick a couple and see if you prefer a different colormap."
   ]
  },
  {
   "cell_type": "code",
   "execution_count": null,
   "id": "e5171cd5-a484-4fe2-88d6-55ffeb40ed2f",
   "metadata": {},
   "outputs": [],
   "source": [
    "hv.plotting.util.list_cmaps(category='Uniform Sequential', records=False, reverse=False)"
   ]
  },
  {
   "cell_type": "markdown",
   "id": "7be1759c-6ecd-4406-a605-d96fb37a4252",
   "metadata": {},
   "source": [
    "## Exploratory Data Analysis\n",
    "Given what we've learned, we can do some exploratory data analysis on the autompg dataset.\n",
    "\n",
    "Above we only looked at the `mpg` column. We'd really like to compare any numeric column with any other numeric column.\n",
    "\n",
    "The cell below will open another page in your browser and display a dashboard that allows you to select any numeric value for the `x`, `y`, `color`, and `size` dimensions. The `panel` library that is used here is the same library the Holoviews uses for layouts.\n",
    "\n",
    "Use the drop-down selections to plot `yr` vs `mpg` and see if the results match what we saw above. What other interesting trends are there?"
   ]
  },
  {
   "cell_type": "code",
   "execution_count": null,
   "id": "47e07084-8d4a-42fd-b448-b10ef274e26e",
   "metadata": {},
   "outputs": [],
   "source": [
    "import panel as pn\n",
    "import panel.widgets as pnw\n",
    "columns = sorted([col for col in autompg.columns if autompg[col].dtype!=object])\n",
    "\n",
    "x = pnw.Select(name='x-axis', value='mpg', options=columns)\n",
    "y = pnw.Select(name='y-axis', value='hp', options=columns)\n",
    "color = pnw.Select(name='color', value='None', options=['None'] + columns)\n",
    "size = pnw.Select(name='size', value='None', options=['None'] + columns)\n",
    "\n",
    "@pn.depends(x.param.value, y.param.value, color.param.value, size.param.value) \n",
    "def create_figure(x, y, color, size):\n",
    "    opts = dict(cmap='Viridis', responsive=True, height=600, line_color='black', colorbar=True)\n",
    "    if color != 'None':\n",
    "        opts['color'] = color\n",
    "    opts['size'] = hv.dim(size).norm()*20 if size!='None' else 6\n",
    "    \n",
    "    return hv.Points(autompg, [x, y], label=f'{x.title()} vs {y.title()}').opts(**opts)\n",
    "\n",
    "widgets = pn.WidgetBox(x, y, color, size, width=200)\n",
    "pn.Row(widgets, create_figure).show('Cross-selector')"
   ]
  },
  {
   "cell_type": "code",
   "execution_count": null,
   "id": "06ddba11-28c6-4014-9613-6bcb92df833c",
   "metadata": {},
   "outputs": [],
   "source": []
  }
 ],
 "metadata": {
  "kernelspec": {
   "display_name": "Python 3 (ipykernel)",
   "language": "python",
   "name": "python3"
  },
  "language_info": {
   "codemirror_mode": {
    "name": "ipython",
    "version": 3
   },
   "file_extension": ".py",
   "mimetype": "text/x-python",
   "name": "python",
   "nbconvert_exporter": "python",
   "pygments_lexer": "ipython3",
   "version": "3.9.12"
  }
 },
 "nbformat": 4,
 "nbformat_minor": 5
}
